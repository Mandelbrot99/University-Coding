{
 "cells": [
  {
   "cell_type": "code",
   "execution_count": 1,
   "metadata": {},
   "outputs": [],
   "source": [
    "from rdkit import Chem\n",
    "from rdkit.Chem import Draw\n",
    "from rdkit.Chem.Draw import IPythonConsole\n",
    "from rdkit.Chem.Draw import rdMolDraw2D\n",
    "from rdkit.Chem import rdDepictor\n",
    "from rdkit.Chem.AtomPairs import Pairs\n",
    "from rdkit import DataStructs\n",
    "\n",
    "from IPython.display import SVG\n",
    "from rdkit.Chem import AllChem"
   ]
  },
  {
   "cell_type": "code",
   "execution_count": 2,
   "metadata": {
    "scrolled": true
   },
   "outputs": [],
   "source": [
    "m1s = [Chem.MolFromSmiles(\"c1nccc2n1ccc2\"), Chem.MolFromSmiles(\"CNC(=O)c1nccc2cccn12\")]\n",
    "m2s = [Chem.MolFromSmiles(\"CCC(CO)Nc1nc(NCc2ccccc2)c2ncn(C(C)C)c2n1\"), \n",
    "       Chem.MolFromSmiles(\"CC(C)C(CO)Nc1nc(Nc2ccc(C(=O)\" + \\\n",
    "                          \"[O-])c(Cl)c2)c2ncn(C(C)C)c2n1\")]\n"
   ]
  },
  {
   "cell_type": "code",
   "execution_count": 3,
   "metadata": {},
   "outputs": [],
   "source": [
    "img1 = Draw.MolsToGridImage(m1s,molsPerRow=2,subImgSize=(300,300), returnPNG=False, legends = ['a', 'b'])    \n",
    "img1.save(\"test1.png\")\n",
    "img2 = Draw.MolsToGridImage(m2s,molsPerRow=2,subImgSize=(300,300), returnPNG=False, legends = ['c', 'd'])    \n",
    "img2.save(\"test2.png\")"
   ]
  },
  {
   "cell_type": "code",
   "execution_count": 4,
   "metadata": {},
   "outputs": [
    {
     "name": "stdout",
     "output_type": "stream",
     "text": [
      "True\n"
     ]
    }
   ],
   "source": [
    "### atom pair fingerprints\n",
    "AP_FP1s = [Pairs.GetAtomPairFingerprint(m) for m in m1s]\n",
    "AP_FP2s = [Pairs.GetAtomPairFingerprint(m) for m in m2s]\n",
    "hashdict0 = AP_FP1s[0].GetNonzeroElements()\n",
    "print(sum( hashdict0.values()) == 36) #number of hash values equals number of atom pairs in the first molecule= 9 choose 2\n"
   ]
  },
  {
   "cell_type": "code",
   "execution_count": 5,
   "metadata": {},
   "outputs": [
    {
     "name": "stdout",
     "output_type": "stream",
     "text": [
      "Dice Similarity of Atom Pair Fingerprints of molecules m1 and m2 0.5087719298245614\n",
      "Dice Similarity of Atom Pair Fingerprints of molecules m1 and m2 0.5447368421052632\n"
     ]
    }
   ],
   "source": [
    "print('Dice Similarity of Atom Pair Fingerprints of molecules m1 and m2', DataStructs.DiceSimilarity(AP_FP1s[0],AP_FP1s[1]))\n",
    "print('Dice Similarity of Atom Pair Fingerprints of molecules m1 and m2', DataStructs.DiceSimilarity(AP_FP2s[0],AP_FP2s[1]))"
   ]
  },
  {
   "cell_type": "code",
   "execution_count": 8,
   "metadata": {},
   "outputs": [
    {
     "name": "stdout",
     "output_type": "stream",
     "text": [
      "Dice Similarity of Morgan Fingerprints of a and b using r = 1 0.5625\n",
      "Dice Similarity of Morgan Fingerprints of c and d using r = 1 0.6865671641791045\n",
      "Dice Similarity of Morgan Fingerprints of a and b using r = 2 0.46153846153846156\n",
      "Dice Similarity of Morgan Fingerprints of c and d using r = 2 0.5871559633027523\n",
      "Dice Similarity of Morgan Fingerprints of a and b using r = 3 0.34285714285714286\n",
      "Dice Similarity of Morgan Fingerprints of c and d using r = 3 0.5285714285714286\n",
      "Dice Similarity of Morgan Fingerprints of a and b using r = 4 0.32432432432432434\n",
      "Dice Similarity of Morgan Fingerprints of c and d using r = 4 0.4634146341463415\n",
      "Dice Similarity of Morgan Fingerprints of a and b using r = 5 0.32432432432432434\n",
      "Dice Similarity of Morgan Fingerprints of c and d using r = 5 0.430939226519337\n"
     ]
    }
   ],
   "source": [
    "#Morgan fingerprints\n",
    "for k in range(1,6):\n",
    "    M_FP1s = [AllChem.GetMorganFingerprintAsBitVect(m,k,nBits=1024) for m in m1s]\n",
    "    M_FP2s = [AllChem.GetMorganFingerprintAsBitVect(m,k,nBits=1024) for m in m2s]\n",
    "    print('Dice Similarity of Morgan Fingerprints of a and b using r = ' + str(k), DataStructs.DiceSimilarity(M_FP1s[0],M_FP1s[1]))\n",
    "    print('Dice Similarity of Morgan Fingerprints of c and d using r = ' + str(k), DataStructs.DiceSimilarity(M_FP2s[0],M_FP2s[1]))\n",
    "    "
   ]
  },
  {
   "cell_type": "code",
   "execution_count": null,
   "metadata": {},
   "outputs": [],
   "source": []
  }
 ],
 "metadata": {
  "kernelspec": {
   "display_name": "TiCB",
   "language": "python",
   "name": "ticb"
  },
  "language_info": {
   "codemirror_mode": {
    "name": "ipython",
    "version": 3
   },
   "file_extension": ".py",
   "mimetype": "text/x-python",
   "name": "python",
   "nbconvert_exporter": "python",
   "pygments_lexer": "ipython3",
   "version": "3.7.10"
  }
 },
 "nbformat": 4,
 "nbformat_minor": 4
}
