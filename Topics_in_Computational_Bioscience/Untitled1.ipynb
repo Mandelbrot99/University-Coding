{
 "cells": [
  {
   "cell_type": "code",
   "execution_count": 7,
   "metadata": {},
   "outputs": [],
   "source": [
    "from rdkit import Chem\n",
    "from rdkit.Chem import Draw\n",
    "from rdkit.Chem.Draw import IPythonConsole\n",
    "from rdkit.Chem.Draw import rdMolDraw2D\n",
    "from rdkit.Chem import rdDepictor\n",
    "from rdkit.Chem.AtomPairs import Pairs\n",
    "from rdkit import DataStructs\n",
    "\n",
    "# rdDepictor.SetPreferCoordGen(True)\n",
    "from IPython.display import SVG\n",
    "from rdkit.Chem import AllChem"
   ]
  },
  {
   "cell_type": "code",
   "execution_count": 16,
   "metadata": {
    "scrolled": true
   },
   "outputs": [],
   "source": [
    "m1s = [Chem.MolFromSmiles(\"c1nccc2n1ccc2\"), Chem.MolFromSmiles(\"CNC(=O)c1nccc2cccn12\")]\n",
    "m2s = [Chem.MolFromSmiles(\"CC(C)(O1)C[C@@H](O)[C@@]1(O2)[C@@H](C)[C@@H]3CC=C4[C@]3(C2)C(=O)C[C@H]5[C@H]4CC[C@@H](C6)[C@]5(C)Cc(n7)c6nc(C[C@@]89(C))c7C[C@@H]8CC[C@@H]%10[C@@H]9C[C@@H](O)[C@@]%11(C)C%10=C[C@H](O%12)[C@]%11(O)[C@H](C)[C@]%12(O%13)[C@H](O)C[C@@]%13(C)CO\"), Chem.MolFromSmiles(\"CC(C)C(CO)CC(C)C(CO)Nc1nc(Nc2ccc(C(=O)[O-])c(Cl)c2)c2ncn(C(C)C)c2n1\")]\n"
   ]
  },
  {
   "cell_type": "code",
   "execution_count": 17,
   "metadata": {},
   "outputs": [],
   "source": [
    "img1 = Draw.MolsToGridImage(m1s,molsPerRow=2,subImgSize=(300,300), returnPNG=False, legends = ['a', 'b'])    \n",
    "img1.save(\"test1.png\")\n",
    "img2 = Draw.MolsToGridImage(m2s,molsPerRow=2,subImgSize=(300,300), returnPNG=False, legends = ['c', 'd'])    \n",
    "img2.save(\"test2.png\")"
   ]
  },
  {
   "cell_type": "code",
   "execution_count": 18,
   "metadata": {},
   "outputs": [
    {
     "name": "stdout",
     "output_type": "stream",
     "text": [
      "True\n"
     ]
    }
   ],
   "source": [
    "### atom pair fingerprints\n",
    "AP_FP1s = [Pairs.GetAtomPairFingerprint(m) for m in m1s]\n",
    "AP_FP2s = [Pairs.GetAtomPairFingerprint(m) for m in m2s]\n",
    "hashdict0 = AP_FP1s[0].GetNonzeroElements()\n",
    "print(sum( hashdict0.values()) == 36) #number of hash values equals number of atom pairs in the first molecule= 9 choose 2\n"
   ]
  },
  {
   "cell_type": "code",
   "execution_count": 19,
   "metadata": {},
   "outputs": [
    {
     "name": "stdout",
     "output_type": "stream",
     "text": [
      "Dice Similarity of Atom Pair Fingerprints of molecules m1 and m2 0.5087719298245614\n",
      "Dice Similarity of Atom Pair Fingerprints of molecules m1 and m2 0.21837837837837837\n"
     ]
    }
   ],
   "source": [
    "print('Dice Similarity of Atom Pair Fingerprints of molecules m1 and m2', DataStructs.DiceSimilarity(AP_FP1s[0],AP_FP1s[1]))\n",
    "print('Dice Similarity of Atom Pair Fingerprints of molecules m1 and m2', DataStructs.DiceSimilarity(AP_FP2s[0],AP_FP2s[1]))"
   ]
  },
  {
   "cell_type": "code",
   "execution_count": 20,
   "metadata": {},
   "outputs": [
    {
     "name": "stdout",
     "output_type": "stream",
     "text": [
      "Dice Similarity of Morgan Fingerprints of a and b using r = 1 0.5625\n",
      "Dice Similarity of Morgan Fingerprints of c and d using r = 1 0.20689655172413793\n",
      "Dice Similarity of Morgan Fingerprints of a and b using r = 2 0.46153846153846156\n",
      "Dice Similarity of Morgan Fingerprints of c and d using r = 2 0.174496644295302\n",
      "Dice Similarity of Morgan Fingerprints of a and b using r = 3 0.34285714285714286\n",
      "Dice Similarity of Morgan Fingerprints of c and d using r = 3 0.1791044776119403\n"
     ]
    }
   ],
   "source": [
    "#Morgan fingerprints\n",
    "for k in range(1,4):\n",
    "    M_FP1s = [AllChem.GetMorganFingerprintAsBitVect(m,k,nBits=1024) for m in m1s]\n",
    "    M_FP2s = [AllChem.GetMorganFingerprintAsBitVect(m,k,nBits=1024) for m in m2s]\n",
    "    print('Dice Similarity of Morgan Fingerprints of a and b using r = ' + str(k), DataStructs.DiceSimilarity(M_FP1s[0],M_FP1s[1]))\n",
    "    print('Dice Similarity of Morgan Fingerprints of c and d using r = ' + str(k), DataStructs.DiceSimilarity(M_FP2s[0],M_FP2s[1]))\n",
    "    "
   ]
  },
  {
   "cell_type": "code",
   "execution_count": null,
   "metadata": {},
   "outputs": [],
   "source": []
  }
 ],
 "metadata": {
  "kernelspec": {
   "display_name": "TiCB",
   "language": "python",
   "name": "ticb"
  },
  "language_info": {
   "codemirror_mode": {
    "name": "ipython",
    "version": 3
   },
   "file_extension": ".py",
   "mimetype": "text/x-python",
   "name": "python",
   "nbconvert_exporter": "python",
   "pygments_lexer": "ipython3",
   "version": "3.7.10"
  }
 },
 "nbformat": 4,
 "nbformat_minor": 4
}
