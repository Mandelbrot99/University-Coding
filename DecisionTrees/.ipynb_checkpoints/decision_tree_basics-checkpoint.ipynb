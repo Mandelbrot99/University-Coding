{
 "cells": [
  {
   "cell_type": "code",
   "execution_count": 1,
   "metadata": {},
   "outputs": [],
   "source": [
    "import numpy as np"
   ]
  },
  {
   "cell_type": "code",
   "execution_count": 100,
   "metadata": {},
   "outputs": [],
   "source": [
    "class Learner:\n",
    "    \n",
    "    def train(self, dataset):\n",
    "        self.dataset = dataset\n",
    "        \n",
    "    def predict(self, examples:\n",
    "        self.examples= examples"
   ]
  },
  {
   "cell_type": "code",
   "execution_count": 103,
   "metadata": {},
   "outputs": [
    {
     "name": "stdout",
     "output_type": "stream",
     "text": [
      "0.6390359525563188\n"
     ]
    }
   ],
   "source": [
    "#examples is a nb of attributes + 1 x number of examples matrix where the last column is the goal for that examples\n",
    "\n",
    "class DecisionTreeLearner(Learner):\n",
    "    \n",
    "    def predict(self, example):\n",
    "        return self.dt\n",
    "    \n",
    "    def train(self, dataset):\n",
    "        self.dataset = dataset\n",
    "        self.attrnames = dataset.attrnames\n",
    "        self.dt = self.decision_tree_learning(dataset.examples, dataset.inputs)\n",
    "\n",
    "def plurality_value(examples):\n",
    "    goals = examples[-1,:]\n",
    "    print(goals)\n",
    "    return np.bincount(goals).argmax()\n",
    "\n",
    "def B(q):\n",
    "    if q == 0 or q == 1:\n",
    "        return 0\n",
    "    return - (q* np.log2(q) + (1-q)* np.log2(1-q))\n",
    "\n",
    "def importance(a, examples):\n",
    "    x = examples[:-1,:]\n",
    "    y = examples[-1,:]\n",
    "    \n",
    "    unique, counts = np.unique(y, return_counts=True)\n",
    "    p = counts[0]\n",
    "    n = counts[1]\n",
    "    q = p/(n+p)\n",
    "    \n",
    "    B_ = B(q)\n",
    "    \n",
    "    #row with values of \"attribute\" for examples\n",
    "    examples_attribute = examples[a, :]\n",
    "    \n",
    "    values = np.unique(examples_attribute)\n",
    "    remainder = 0\n",
    "    for k in values:\n",
    "        #get all idices where attribute has certain value\n",
    "        indices = (examples_attribute == k)\n",
    "        unique_k, counts_k = np.unique(y[indices], return_counts=True)\n",
    "        p_k_array = counts_k[unique_k==0]\n",
    "        n_k_array = counts_k[unique_k==1]\n",
    "        p_k = 0\n",
    "        n_k = 0\n",
    "        \n",
    "        if len(p_k_array > 0):\n",
    "            p_k = p_k_array[0]\n",
    "        if len(n_k_array >0):\n",
    "            n_k = n_k_array[0]\n",
    "        q_k = p_k/(p_k+n_k)\n",
    "        remainder += (p_k+n_k)/(p+n)*B(q_k)\n",
    "\n",
    "    return B(q) - remainder\n",
    "\n",
    "def decision_tree_learner(examples, attributes, parent_examples):\n",
    "    x = examples[:-1,:]\n",
    "    y = examples[-1,:]\n",
    "    if len(examples) == 0: \n",
    "        return plurality_value(parent_examples)\n",
    "    elif all_same_class(y):\n",
    "        return y[0]\n",
    "    elif len(attributes) == 0:\n",
    "        return plurality_value(examples)\n",
    "    else: \n",
    "        argmax = 0\n",
    "        value = importance(attributes[0], examples)\n",
    "        for k in range(1,len(attributes)):\n",
    "            if (importance(attributes[k], examples) > value): \n",
    "                argmax = k\n",
    "        \n",
    "        \n",
    "def all_same_class(y):\n",
    "    assert(len(y)>0)\n",
    "    y0 = y[0]\n",
    "    for elem in y:\n",
    "        if elem != y:\n",
    "            return False\n",
    "    return True\n",
    "    \n",
    "test = np.array([[0,1,2,3,4,6,2,3,4,5], [1,2,1,1,3,2,4,1,1, 2], [0,1,1,0,1,1,0,0,0,1]])\n",
    "print(importance(1,test))"
   ]
  },
  {
   "cell_type": "code",
   "execution_count": null,
   "metadata": {},
   "outputs": [],
   "source": []
  },
  {
   "cell_type": "code",
   "execution_count": null,
   "metadata": {},
   "outputs": [],
   "source": []
  }
 ],
 "metadata": {
  "kernelspec": {
   "display_name": "Python 3",
   "language": "python",
   "name": "python3"
  },
  "language_info": {
   "codemirror_mode": {
    "name": "ipython",
    "version": 3
   },
   "file_extension": ".py",
   "mimetype": "text/x-python",
   "name": "python",
   "nbconvert_exporter": "python",
   "pygments_lexer": "ipython3",
   "version": "3.8.5"
  }
 },
 "nbformat": 4,
 "nbformat_minor": 4
}
