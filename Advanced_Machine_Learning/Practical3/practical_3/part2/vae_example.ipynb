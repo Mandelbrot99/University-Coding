{
 "cells": [
  {
   "cell_type": "markdown",
   "metadata": {},
   "source": [
    "# Basic VAE implementation\n",
    "\n",
    "This notebook defines a basic VAE to model the MNIST dataset, using PyTorch."
   ]
  },
  {
   "cell_type": "markdown",
   "metadata": {},
   "source": [
    "## VAE Theory\n",
    "\n",
    "The goal of a VAE is to (implicitly) learn a distribution $p(x),\\,x \\in X$, with $X$ a vector space, which is as similar as possible to an unknown target distribution $p^{*}(x)$, given a set of samples from this distribution $\\mathcal{D}=\\{x_1, ..., x_{n}\\}$. VAEs make the assumption that $x$ depends on some set of underlying latent variables $z \\in Z$, which are distributed according to some known distribution $p(z)$, and model the likelihood $p(x\\mid z)$ and an approximation of the posterior distribution $p(z \\mid x)$.\n",
    "\n",
    "To help them learn, VAEs use variational inference. In this approach, instead of computing the posterior $p(z \\mid x)$, which is often intractable, one searches for a more tractable distribution $q(z \\mid x)$ which approximates the posterior. VAEs assume parameterised models of the likelihood and the approximate posterior, given by $p(x \\mid z,\\theta)$ and $q(z \\mid x, \\theta)$, where $\\theta$ represent model parameters. To learn  $q(z \\mid x, \\theta)$, we maximise the Evidence Lower Bound (or ELBO) over the training data, which is given by\n",
    "\n",
    "\\begin{equation}\n",
    "ELBO = \\sum_{i=1}^{n} \\mathbb{E}_{q(z_{i} \\mid x_{i},\\theta)} \\left[\\log p(x_{i} \\mid z_{i},\\theta) \\right] - D_{\\mathrm{KL}}(q(z_{i}\\mid x_{i},\\theta) \\, \\| \\, p(z_{i}))~,\n",
    "\\end{equation}\n",
    "assuming the training samples are independently and identically distributed. \n",
    "\n",
    "To be able to compute the ELBO, we assume a Gaussian VAE:\n",
    "\\begin{align}\n",
    "\\label{eq:vae_likelihood}\n",
    "p(x \\mid z,\\theta)&=\\mathcal{N}(x; f(z; \\theta_{f}), \\sigma^{2} I)\n",
    "\\\\\n",
    "\\label{eq:vae_prior}\n",
    "p(z)&=\\mathcal{N}(z; 0, I)\n",
    "\\\\\n",
    "\\label{eq:vae_q}\n",
    "q(z\\mid x,\\theta)&=\\mathcal{N}(z; g(x;\\theta_{g}), \\mathrm{diag}(h(x;\\theta_{h})^{2}))~,\n",
    "\\end{align}\n",
    "where $f$, $g$ and $h$ are all deep neural networks parameterised by $\\theta=\\{\\theta_{f},\\theta_{g},\\theta_{h}\\}$, $\\sigma$ is a hyperparameter. Our optimal network parameters are then given by\n",
    "\n",
    "\\begin{equation}\n",
    "\\label{eq:vae_mle}\n",
    "\\hat \\theta_{f}, \\hat \\theta_{g}, \\hat \\theta_{h} = argmin_{\\theta_{f}, \\theta_{g}, \\theta_{h}}  \\left\\{ \\sum_{i=1}^{n} \\mathbb{E}_{q(z_{i} \\mid x_{i}, \\theta_{g},\\theta_{h})} \\left[{\\| x_{i}-f(z_{i};\\theta_{f}) \\|^{2} \\over 2 \\sigma^{2}}\\right] + D_{\\mathrm{KL}}(q(z_{i}\\mid x_{i},\\theta_{g},\\theta_{h}) \\, \\| \\, p(z_{i})) \\right\\}~.\n",
    "\\end{equation}\n",
    "\n",
    "The KL term above can easily be computed analytically as it involves two normal distributions. When calculating the expectation over $q(z\\mid x,\\theta)$, which is usually carried out via sampling, a \"reparameterisation trick\" is used. One notes that sampling $z \\sim q(z\\mid x,\\theta)$ is equivalent to sampling $\\epsilon \\sim \\mathcal{N}(\\epsilon;0,I)$ and computing $z=h(x;\\theta_{h})\\epsilon + g(x;\\theta_{g})$, which allows gradient descent methods to be used to find $\\hat \\theta$.\n",
    "\n",
    "> **Extension task**: show that the KL divergence term in this case can be analytically derived as: $D_{\\mathrm{KL}}(q(z_{i}\\mid x_{i},\\theta_{g},\\theta_{h}) \\, \\| \\, p(z_{i}))= -{1\\over 2} \\sum^{J}_{j=1} \\left[ 1 + \\log(h_{j}^{2}) - h_{j}^{2} - g_{j}^{2} \\right]$ where $J$ is the dimension of the latent vector.\n",
    "\n",
    "For more on VAE theory, see: https://arxiv.org/abs/1606.05908 and https://arxiv.org/abs/1907.08956."
   ]
  },
  {
   "cell_type": "code",
   "execution_count": 1,
   "metadata": {},
   "outputs": [],
   "source": [
    "import numpy as np\n",
    "import torch\n",
    "import matplotlib.pyplot as plt"
   ]
  },
  {
   "cell_type": "markdown",
   "metadata": {},
   "source": [
    "## Load training data\n",
    "\n",
    "First, we load the MNIST training data (similar to before), and plot some training examples."
   ]
  },
  {
   "cell_type": "code",
   "execution_count": 3,
   "metadata": {},
   "outputs": [
    {
     "name": "stdout",
     "output_type": "stream",
     "text": [
      "Downloading http://yann.lecun.com/exdb/mnist/train-images-idx3-ubyte.gz to ./data/MNIST/raw/train-images-idx3-ubyte.gz\n"
     ]
    },
    {
     "data": {
      "application/vnd.jupyter.widget-view+json": {
       "model_id": "571bb6bd8e674c4281e174edaa6746d5",
       "version_major": 2,
       "version_minor": 0
      },
      "text/plain": [
       "0it [00:00, ?it/s]"
      ]
     },
     "metadata": {},
     "output_type": "display_data"
    },
    {
     "name": "stdout",
     "output_type": "stream",
     "text": [
      "Extracting ./data/MNIST/raw/train-images-idx3-ubyte.gz to ./data/MNIST/raw\n",
      "Downloading http://yann.lecun.com/exdb/mnist/train-labels-idx1-ubyte.gz to ./data/MNIST/raw/train-labels-idx1-ubyte.gz\n"
     ]
    },
    {
     "data": {
      "application/vnd.jupyter.widget-view+json": {
       "model_id": "53c79976ef71430d9462362d02fb7f23",
       "version_major": 2,
       "version_minor": 0
      },
      "text/plain": [
       "0it [00:00, ?it/s]"
      ]
     },
     "metadata": {},
     "output_type": "display_data"
    },
    {
     "name": "stdout",
     "output_type": "stream",
     "text": [
      "Extracting ./data/MNIST/raw/train-labels-idx1-ubyte.gz to ./data/MNIST/raw\n",
      "Downloading http://yann.lecun.com/exdb/mnist/t10k-images-idx3-ubyte.gz to ./data/MNIST/raw/t10k-images-idx3-ubyte.gz\n"
     ]
    },
    {
     "data": {
      "application/vnd.jupyter.widget-view+json": {
       "model_id": "dabf0e906ff5451e95d19c673dfe7ebc",
       "version_major": 2,
       "version_minor": 0
      },
      "text/plain": [
       "0it [00:00, ?it/s]"
      ]
     },
     "metadata": {},
     "output_type": "display_data"
    },
    {
     "name": "stdout",
     "output_type": "stream",
     "text": [
      "Extracting ./data/MNIST/raw/t10k-images-idx3-ubyte.gz to ./data/MNIST/raw\n",
      "Downloading http://yann.lecun.com/exdb/mnist/t10k-labels-idx1-ubyte.gz to ./data/MNIST/raw/t10k-labels-idx1-ubyte.gz\n"
     ]
    },
    {
     "data": {
      "application/vnd.jupyter.widget-view+json": {
       "model_id": "944a9811df874a8aa51bbab4d08cd9e2",
       "version_major": 2,
       "version_minor": 0
      },
      "text/plain": [
       "0it [00:00, ?it/s]"
      ]
     },
     "metadata": {},
     "output_type": "display_data"
    },
    {
     "name": "stdout",
     "output_type": "stream",
     "text": [
      "Extracting ./data/MNIST/raw/t10k-labels-idx1-ubyte.gz to ./data/MNIST/raw\n",
      "Processing...\n",
      "Done!\n"
     ]
    },
    {
     "name": "stderr",
     "output_type": "stream",
     "text": [
      "/home/jonas/anaconda3/envs/aml-practical/lib/python3.8/site-packages/torchvision/datasets/mnist.py:480: UserWarning: The given NumPy array is not writeable, and PyTorch does not support non-writeable tensors. This means you can write to the underlying (supposedly non-writeable) NumPy array using the tensor. You may want to copy the array to protect its data or make it writeable before converting it to a tensor. This type of warning will be suppressed for the rest of this program. (Triggered internally at  /opt/conda/conda-bld/pytorch_1607370172916/work/torch/csrc/utils/tensor_numpy.cpp:141.)\n",
      "  return torch.from_numpy(parsed.astype(m[2], copy=False)).view(*s)\n"
     ]
    }
   ],
   "source": [
    "from torchvision import datasets, transforms\n",
    "from torch.utils.data import DataLoader\n",
    "\n",
    "train_dataset = datasets.MNIST('./data', train=True, download=True,\n",
    "                   transform=transforms.Compose([\n",
    "                       transforms.ToTensor(),\n",
    "                   ]))\n",
    "\n",
    "test_dataset = datasets.MNIST('./data', train=False, download=True,\n",
    "                   transform=transforms.Compose([\n",
    "                       transforms.ToTensor(),\n",
    "                   ]))"
   ]
  },
  {
   "cell_type": "code",
   "execution_count": 4,
   "metadata": {},
   "outputs": [
    {
     "name": "stdout",
     "output_type": "stream",
     "text": [
      "60000\n",
      "10000\n"
     ]
    },
    {
     "data": {
      "image/png": "[encoded data removed]",
      "text/plain": [
       "<Figure size 432x288 with 2 Axes>"
      ]
     },
     "metadata": {
      "needs_background": "light"
     },
     "output_type": "display_data"
    },
    {
     "data": {
      "image/png": "[encoded data removed]",
      "text/plain": [
       "<Figure size 432x288 with 2 Axes>"
      ]
     },
     "metadata": {
      "needs_background": "light"
     },
     "output_type": "display_data"
    },
    {
     "name": "stdout",
     "output_type": "stream",
     "text": [
      "torch.Size([1, 28, 28])\n"
     ]
    }
   ],
   "source": [
    "print(len(train_dataset))\n",
    "print(len(test_dataset))\n",
    "\n",
    "for i in [0, 101]:\n",
    "    im,label = train_dataset[i]\n",
    "    \n",
    "    plt.imshow(im.numpy()[0])\n",
    "    plt.title(label)\n",
    "    plt.colorbar()\n",
    "    plt.show()\n",
    "\n",
    "print(im.shape)"
   ]
  },
  {
   "cell_type": "markdown",
   "metadata": {},
   "source": [
    "## Define network\n",
    "\n",
    "Next we define the VAE."
   ]
  },
  {
   "cell_type": "markdown",
   "metadata": {},
   "source": [
    "> **Task 1**: comple the PyTorch VAE model below by implementing the `reparameterize` method which samples from the approximate posterior using the reparameterisation trick, and implementing the model's `forward` method, which returns the estimated parameters $f$,$g$ and $h$ of the likelihood and approximate posterior given a sample $x$."
   ]
  },
  {
   "cell_type": "code",
   "execution_count": 15,
   "metadata": {},
   "outputs": [],
   "source": [
    "import torch.nn as nn\n",
    "import torch.nn.functional as F\n",
    "\n",
    "class VAE(nn.Module):\n",
    "    def __init__(self):\n",
    "        super(VAE, self).__init__()\n",
    "\n",
    "        self.fc1 = nn.Linear(784, 400)\n",
    "        self.fc21 = nn.Linear(400, 20)\n",
    "        self.fc22 = nn.Linear(400, 20)\n",
    "        self.fc3 = nn.Linear(20, 400)\n",
    "        self.fc4 = nn.Linear(400, 784)\n",
    "\n",
    "    def encode(self, x):\n",
    "        h1 = F.relu(self.fc1(x))\n",
    "        return self.fc21(h1), self.fc22(h1)# estimates mu, log-variance of approximate posterior q(z|x)\n",
    "\n",
    "    def reparameterize(self, mu, logvar):\n",
    "        std = torch.exp(0.5*logvar)\n",
    "        eps = torch.randn_like(std)\n",
    "        return mu + eps*std\n",
    "        # TODO: write some code which returns a random sample from the approximate posterior q(z|x) here\n",
    "        \n",
    "\n",
    "\n",
    "    def decode(self, z):\n",
    "        h3 = F.relu(self.fc3(z))\n",
    "        return torch.sigmoid(self.fc4(h3))# estimates mu of likelihood p(x|z)\n",
    "\n",
    "    def forward(self, x):\n",
    "        \n",
    "        mu, logvar = self.encode(x.view(-1, 784))\n",
    "        z = self.reparameterize(mu, logvar)\n",
    "        return self.decode(z), mu, logvar\n",
    "        # TODO: write some code which returns\n",
    "        # 1) mu,log-variance of the approximate posterior given x\n",
    "        # 2) mu of the likelihood given a random sample from the posterior given x\n",
    "        \n",
    "\n",
    "        \n",
    "        return recon, mu, logvar# should return  (likelihood mu, posterior mu, posterior log-variance)\n",
    "    \n",
    "model = VAE()"
   ]
  },
  {
   "cell_type": "markdown",
   "metadata": {},
   "source": [
    "## Loss function\n",
    "\n",
    "Next, we define the loss function to train the VAE model."
   ]
  },
  {
   "cell_type": "markdown",
   "metadata": {},
   "source": [
    "> **Task 2**: define a loss function to train the VAE model, which minimises the expression for the negative ELBO shown above."
   ]
  },
  {
   "cell_type": "code",
   "execution_count": 19,
   "metadata": {},
   "outputs": [],
   "source": [
    "def loss_function(recon, x, mu, logvar):\n",
    "    \n",
    "    BCE = F.binary_cross_entropy(recon, x.view(-1, 784), reduction='sum')\n",
    "\n",
    "    # see Appendix B from VAE paper:\n",
    "    # Kingma and Welling. Auto-Encoding Variational Bayes. ICLR, 2014\n",
    "    # https://arxiv.org/abs/1312.6114\n",
    "    # 0.5 * sum(1 + log(sigma^2) - mu^2 - sigma^2)\n",
    "    KLD = -0.5 * torch.sum(1 + logvar - mu.pow(2) - logvar.exp())\n",
    "\n",
    "    return BCE + KLD\n",
    "\n"
   ]
  },
  {
   "cell_type": "markdown",
   "metadata": {},
   "source": [
    "## Train\n",
    "\n",
    "Finally, we train the VAE model."
   ]
  },
  {
   "cell_type": "code",
   "execution_count": 20,
   "metadata": {},
   "outputs": [],
   "source": [
    "from torch import optim\n",
    "\n",
    "optimizer = torch.optim.Adam(model.parameters(), lr=1e-3)\n",
    "\n",
    "train_loader = DataLoader(train_dataset, batch_size=64, shuffle=True)# this automatically batches up examples, adding a batch dimension\n",
    "test_loader = DataLoader(test_dataset, batch_size=64, shuffle=True)"
   ]
  },
  {
   "cell_type": "markdown",
   "metadata": {},
   "source": [
    "> **Task 3**: write some code to train the VAE using the training data and the loss function defined above."
   ]
  },
  {
   "cell_type": "code",
   "execution_count": 27,
   "metadata": {},
   "outputs": [
    {
     "name": "stdout",
     "output_type": "stream",
     "text": [
      "Train Epoch: 1 [0/60000 (0%)]\tLoss: 109.120392\n",
      "Train Epoch: 1 [6400/60000 (11%)]\tLoss: 103.371941\n",
      "Train Epoch: 1 [12800/60000 (21%)]\tLoss: 102.188370\n",
      "Train Epoch: 1 [19200/60000 (32%)]\tLoss: 111.986038\n",
      "Train Epoch: 1 [25600/60000 (43%)]\tLoss: 109.921188\n",
      "Train Epoch: 1 [32000/60000 (53%)]\tLoss: 102.488220\n",
      "Train Epoch: 1 [38400/60000 (64%)]\tLoss: 107.942802\n",
      "Train Epoch: 1 [44800/60000 (75%)]\tLoss: 109.414200\n",
      "Train Epoch: 1 [51200/60000 (85%)]\tLoss: 106.431160\n",
      "Train Epoch: 1 [57600/60000 (96%)]\tLoss: 102.938583\n",
      "====> Epoch: 1 Average loss: 108.0693\n",
      "====> Test set loss: 106.8609\n",
      "Train Epoch: 2 [0/60000 (0%)]\tLoss: 106.235138\n",
      "Train Epoch: 2 [6400/60000 (11%)]\tLoss: 107.749176\n",
      "Train Epoch: 2 [12800/60000 (21%)]\tLoss: 105.837807\n",
      "Train Epoch: 2 [19200/60000 (32%)]\tLoss: 105.285507\n",
      "Train Epoch: 2 [25600/60000 (43%)]\tLoss: 108.019684\n",
      "Train Epoch: 2 [32000/60000 (53%)]\tLoss: 105.687309\n",
      "Train Epoch: 2 [38400/60000 (64%)]\tLoss: 104.912621\n",
      "Train Epoch: 2 [44800/60000 (75%)]\tLoss: 100.939232\n",
      "Train Epoch: 2 [51200/60000 (85%)]\tLoss: 103.570343\n",
      "Train Epoch: 2 [57600/60000 (96%)]\tLoss: 108.091965\n",
      "====> Epoch: 2 Average loss: 107.2889\n",
      "====> Test set loss: 106.3931\n",
      "Train Epoch: 3 [0/60000 (0%)]\tLoss: 104.059814\n",
      "Train Epoch: 3 [6400/60000 (11%)]\tLoss: 101.210091\n",
      "Train Epoch: 3 [12800/60000 (21%)]\tLoss: 106.956863\n",
      "Train Epoch: 3 [19200/60000 (32%)]\tLoss: 108.782257\n",
      "Train Epoch: 3 [25600/60000 (43%)]\tLoss: 109.019913\n",
      "Train Epoch: 3 [32000/60000 (53%)]\tLoss: 101.456947\n",
      "Train Epoch: 3 [38400/60000 (64%)]\tLoss: 107.285362\n",
      "Train Epoch: 3 [44800/60000 (75%)]\tLoss: 108.116470\n",
      "Train Epoch: 3 [51200/60000 (85%)]\tLoss: 103.728661\n",
      "Train Epoch: 3 [57600/60000 (96%)]\tLoss: 107.655495\n",
      "====> Epoch: 3 Average loss: 106.6939\n",
      "====> Test set loss: 106.2903\n",
      "Train Epoch: 4 [0/60000 (0%)]\tLoss: 115.470757\n",
      "Train Epoch: 4 [6400/60000 (11%)]\tLoss: 104.437683\n",
      "Train Epoch: 4 [12800/60000 (21%)]\tLoss: 101.838699\n",
      "Train Epoch: 4 [19200/60000 (32%)]\tLoss: 111.625679\n",
      "Train Epoch: 4 [25600/60000 (43%)]\tLoss: 106.873085\n",
      "Train Epoch: 4 [32000/60000 (53%)]\tLoss: 105.615379\n",
      "Train Epoch: 4 [38400/60000 (64%)]\tLoss: 103.201828\n",
      "Train Epoch: 4 [44800/60000 (75%)]\tLoss: 103.708206\n",
      "Train Epoch: 4 [51200/60000 (85%)]\tLoss: 104.413818\n",
      "Train Epoch: 4 [57600/60000 (96%)]\tLoss: 106.513191\n",
      "====> Epoch: 4 Average loss: 106.1553\n",
      "====> Test set loss: 105.6008\n"
     ]
    }
   ],
   "source": [
    "def train(epoch):\n",
    "    model.train()\n",
    "    \n",
    "    train_loss = 0\n",
    "    for batch_idx, (data, _) in enumerate(train_loader):\n",
    "        \n",
    "        # TODO: write some code here\n",
    "        # carry out an optimisation step for each batch\n",
    "        # after each epoch report the average loss over the training dataset\n",
    "        optimizer.zero_grad()\n",
    "        recon_batch, mu, logvar = model(data)\n",
    "        loss = loss_function(recon_batch, data, mu, logvar)\n",
    "        loss.backward()\n",
    "        \n",
    "        train_loss += loss.item()\n",
    "        optimizer.step()\n",
    "        if batch_idx % 100 == 0:\n",
    "            print('Train Epoch: {} [{}/{} ({:.0f}%)]\\tLoss: {:.6f}'.format(\n",
    "                epoch, batch_idx * len(data), len(train_loader.dataset),\n",
    "                100. * batch_idx / len(train_loader),\n",
    "                loss.item() / len(data)))\n",
    "\n",
    "    print('====> Epoch: {} Average loss: {:.4f}'.format(\n",
    "          epoch, train_loss / len(train_loader.dataset)))\n",
    "\n",
    "\n",
    "\n",
    "def test(epoch):\n",
    "    model.eval()\n",
    "    \n",
    "    test_loss = 0\n",
    "    with torch.no_grad():\n",
    "        for i, (data, _) in enumerate(test_loader):\n",
    "\n",
    "            recon_batch, mu, logvar = model(data)\n",
    "            test_loss += loss_function(recon_batch, data, mu, logvar).item()\n",
    "            \n",
    "    test_loss /= len(test_loader.dataset)\n",
    "    print('====> Test set loss: {:.4f}'.format(test_loss))\n",
    "for epoch in range(1, 5):\n",
    "    train(epoch)\n",
    "    test(epoch)"
   ]
  },
  {
   "cell_type": "markdown",
   "metadata": {},
   "source": [
    "## Evaluate\n",
    "\n",
    "In this section we evaluate the performance of the trained VAE.\n",
    "\n",
    "### Reconstruction quality\n",
    "\n",
    "> **Task 4**: plot example VAE reconstructions (mean of the likelihood) for some of the images in the test set."
   ]
  },
  {
   "cell_type": "code",
   "execution_count": 34,
   "metadata": {},
   "outputs": [
    {
     "name": "stdout",
     "output_type": "stream",
     "text": [
      "tensor([[[[1.4384e-07, 1.5234e-07, 1.0379e-07,  ..., 7.7273e-08,\n",
      "           5.1871e-08, 1.1689e-07],\n",
      "          [2.2406e-07, 5.3008e-08, 9.0643e-08,  ..., 1.2301e-07,\n",
      "           1.2163e-07, 1.2209e-07],\n",
      "          [2.5969e-07, 9.7767e-08, 7.0479e-08,  ..., 1.5486e-06,\n",
      "           1.7523e-07, 4.9544e-08],\n",
      "          ...,\n",
      "          [7.2857e-08, 1.4418e-07, 6.8121e-07,  ..., 3.2214e-07,\n",
      "           1.4336e-06, 9.1033e-08],\n",
      "          [7.8043e-08, 3.5141e-08, 1.2250e-07,  ..., 1.2828e-06,\n",
      "           1.5655e-07, 4.9021e-08],\n",
      "          [5.4788e-08, 8.2004e-08, 1.1252e-07,  ..., 3.8187e-08,\n",
      "           8.2464e-08, 7.0480e-08]]],\n",
      "\n",
      "\n",
      "        [[[2.2193e-07, 1.7677e-07, 1.1069e-07,  ..., 2.5456e-07,\n",
      "           5.2054e-08, 1.3452e-07],\n",
      "          [1.8998e-07, 1.3311e-07, 8.0170e-08,  ..., 7.4151e-08,\n",
      "           1.1974e-07, 1.0953e-07],\n",
      "          [8.9656e-08, 5.1628e-08, 3.5492e-08,  ..., 6.1479e-09,\n",
      "           1.1153e-07, 1.0476e-07],\n",
      "          ...,\n",
      "          [1.2208e-07, 7.6395e-08, 1.0688e-06,  ..., 3.1270e-07,\n",
      "           9.7192e-07, 8.9867e-08],\n",
      "          [6.3065e-08, 1.5014e-07, 1.6843e-07,  ..., 3.2178e-06,\n",
      "           1.3775e-07, 1.0972e-07],\n",
      "          [1.2656e-07, 1.0792e-07, 7.8022e-08,  ..., 1.2938e-07,\n",
      "           7.0404e-08, 6.3380e-08]]],\n",
      "\n",
      "\n",
      "        [[[1.6802e-09, 8.9851e-10, 1.0496e-09,  ..., 1.0994e-09,\n",
      "           8.9177e-10, 2.1515e-09],\n",
      "          [2.5350e-09, 4.6768e-10, 7.1560e-10,  ..., 2.9910e-09,\n",
      "           2.0876e-09, 1.6819e-09],\n",
      "          [5.2231e-10, 1.0722e-09, 9.3103e-09,  ..., 1.7532e-09,\n",
      "           9.5605e-10, 6.6616e-10],\n",
      "          ...,\n",
      "          [9.5446e-10, 7.8409e-10, 2.3094e-08,  ..., 1.0585e-08,\n",
      "           1.2358e-08, 1.5656e-09],\n",
      "          [1.4368e-09, 5.0157e-10, 5.8700e-10,  ..., 3.0375e-09,\n",
      "           3.3463e-09, 1.0245e-09],\n",
      "          [9.3925e-10, 1.5046e-09, 2.5180e-09,  ..., 8.7015e-10,\n",
      "           7.7099e-10, 1.5350e-09]]],\n",
      "\n",
      "\n",
      "        ...,\n",
      "\n",
      "\n",
      "        [[[6.9962e-07, 3.1937e-07, 2.5612e-07,  ..., 3.2037e-07,\n",
      "           1.7653e-07, 6.1929e-07],\n",
      "          [1.9430e-07, 2.0012e-07, 1.2887e-07,  ..., 4.3343e-07,\n",
      "           4.2735e-07, 7.9839e-07],\n",
      "          [4.5655e-07, 1.4782e-07, 4.0718e-07,  ..., 1.1108e-06,\n",
      "           3.2302e-07, 1.7103e-07],\n",
      "          ...,\n",
      "          [4.0386e-07, 2.3876e-07, 4.6348e-07,  ..., 1.5887e-06,\n",
      "           2.8587e-06, 1.4605e-07],\n",
      "          [2.8278e-07, 1.8376e-07, 2.6865e-07,  ..., 2.7462e-07,\n",
      "           2.2386e-07, 2.0774e-07],\n",
      "          [2.0986e-07, 3.9294e-07, 2.0169e-07,  ..., 4.5620e-07,\n",
      "           2.7228e-07, 3.5371e-07]]],\n",
      "\n",
      "\n",
      "        [[[3.6101e-09, 1.1247e-09, 3.4156e-09,  ..., 9.8705e-10,\n",
      "           5.5304e-09, 1.0118e-08],\n",
      "          [3.1620e-09, 2.3204e-09, 3.6682e-09,  ..., 6.2972e-09,\n",
      "           4.7405e-09, 5.8640e-09],\n",
      "          [3.3310e-09, 2.1787e-09, 3.6924e-09,  ..., 2.3129e-08,\n",
      "           4.1040e-09, 1.8819e-09],\n",
      "          ...,\n",
      "          [4.8420e-09, 3.6092e-09, 1.0162e-08,  ..., 3.8120e-09,\n",
      "           7.3214e-09, 1.7413e-09],\n",
      "          [2.6916e-09, 1.2375e-09, 2.9294e-09,  ..., 1.7287e-09,\n",
      "           1.8507e-09, 1.9060e-09],\n",
      "          [4.5828e-09, 2.4853e-09, 2.4228e-09,  ..., 2.7729e-09,\n",
      "           3.7314e-09, 2.9945e-09]]],\n",
      "\n",
      "\n",
      "        [[[2.0858e-07, 2.1368e-07, 1.4084e-07,  ..., 2.1828e-07,\n",
      "           2.5512e-07, 1.8179e-07],\n",
      "          [2.2830e-07, 1.5069e-07, 2.0572e-07,  ..., 5.1307e-07,\n",
      "           1.8988e-07, 2.6904e-07],\n",
      "          [2.0023e-07, 2.7060e-07, 1.4380e-07,  ..., 6.2458e-07,\n",
      "           3.1915e-07, 1.5871e-07],\n",
      "          ...,\n",
      "          [1.6326e-07, 1.2455e-07, 1.3636e-06,  ..., 1.1489e-06,\n",
      "           1.9420e-06, 1.6846e-07],\n",
      "          [1.0899e-07, 1.8050e-07, 9.4776e-08,  ..., 6.6165e-07,\n",
      "           2.4001e-07, 1.0278e-07],\n",
      "          [2.2312e-07, 2.1623e-07, 2.2311e-07,  ..., 1.1099e-07,\n",
      "           2.5675e-07, 1.5513e-07]]]], grad_fn=<ViewBackward>)\n"
     ]
    },
    {
     "ename": "TypeError",
     "evalue": "Invalid shape (64, 1, 28, 28) for image data",
     "output_type": "error",
     "traceback": [
      "\u001b[0;31m---------------------------------------------------------------------------\u001b[0m",
      "\u001b[0;31mTypeError\u001b[0m                                 Traceback (most recent call last)",
      "\u001b[0;32m<ipython-input-34-5d45c922c980>\u001b[0m in \u001b[0;36m<module>\u001b[0;34m\u001b[0m\n\u001b[1;32m      3\u001b[0m \u001b[0msample\u001b[0m \u001b[0;34m=\u001b[0m \u001b[0mmodel\u001b[0m\u001b[0;34m.\u001b[0m\u001b[0mdecode\u001b[0m\u001b[0;34m(\u001b[0m\u001b[0msample\u001b[0m\u001b[0;34m)\u001b[0m\u001b[0;34m.\u001b[0m\u001b[0mview\u001b[0m\u001b[0;34m(\u001b[0m\u001b[0;36m64\u001b[0m\u001b[0;34m,\u001b[0m\u001b[0;36m1\u001b[0m\u001b[0;34m,\u001b[0m\u001b[0;36m28\u001b[0m\u001b[0;34m,\u001b[0m\u001b[0;36m28\u001b[0m\u001b[0;34m)\u001b[0m\u001b[0;34m\u001b[0m\u001b[0;34m\u001b[0m\u001b[0m\n\u001b[1;32m      4\u001b[0m \u001b[0mprint\u001b[0m\u001b[0;34m(\u001b[0m\u001b[0msample\u001b[0m\u001b[0;34m)\u001b[0m\u001b[0;34m\u001b[0m\u001b[0;34m\u001b[0m\u001b[0m\n\u001b[0;32m----> 5\u001b[0;31m \u001b[0mplt\u001b[0m\u001b[0;34m.\u001b[0m\u001b[0mimshow\u001b[0m\u001b[0;34m(\u001b[0m\u001b[0msample\u001b[0m\u001b[0;34m.\u001b[0m\u001b[0mdetach\u001b[0m\u001b[0;34m(\u001b[0m\u001b[0;34m)\u001b[0m\u001b[0;34m.\u001b[0m\u001b[0mnumpy\u001b[0m\u001b[0;34m(\u001b[0m\u001b[0;34m)\u001b[0m\u001b[0;34m)\u001b[0m\u001b[0;34m\u001b[0m\u001b[0;34m\u001b[0m\u001b[0m\n\u001b[0m\u001b[1;32m      6\u001b[0m \u001b[0mplt\u001b[0m\u001b[0;34m.\u001b[0m\u001b[0mcolorbar\u001b[0m\u001b[0;34m(\u001b[0m\u001b[0;34m)\u001b[0m\u001b[0;34m\u001b[0m\u001b[0;34m\u001b[0m\u001b[0m\n\u001b[1;32m      7\u001b[0m \u001b[0mplt\u001b[0m\u001b[0;34m.\u001b[0m\u001b[0mshow\u001b[0m\u001b[0;34m(\u001b[0m\u001b[0;34m)\u001b[0m\u001b[0;34m\u001b[0m\u001b[0;34m\u001b[0m\u001b[0m\n",
      "\u001b[0;32m~/anaconda3/envs/aml-practical/lib/python3.8/site-packages/matplotlib/pyplot.py\u001b[0m in \u001b[0;36mimshow\u001b[0;34m(X, cmap, norm, aspect, interpolation, alpha, vmin, vmax, origin, extent, filternorm, filterrad, resample, url, data, **kwargs)\u001b[0m\n\u001b[1;32m   2722\u001b[0m         \u001b[0mfilternorm\u001b[0m\u001b[0;34m=\u001b[0m\u001b[0;32mTrue\u001b[0m\u001b[0;34m,\u001b[0m \u001b[0mfilterrad\u001b[0m\u001b[0;34m=\u001b[0m\u001b[0;36m4.0\u001b[0m\u001b[0;34m,\u001b[0m \u001b[0mresample\u001b[0m\u001b[0;34m=\u001b[0m\u001b[0;32mNone\u001b[0m\u001b[0;34m,\u001b[0m \u001b[0murl\u001b[0m\u001b[0;34m=\u001b[0m\u001b[0;32mNone\u001b[0m\u001b[0;34m,\u001b[0m\u001b[0;34m\u001b[0m\u001b[0;34m\u001b[0m\u001b[0m\n\u001b[1;32m   2723\u001b[0m         data=None, **kwargs):\n\u001b[0;32m-> 2724\u001b[0;31m     __ret = gca().imshow(\n\u001b[0m\u001b[1;32m   2725\u001b[0m         \u001b[0mX\u001b[0m\u001b[0;34m,\u001b[0m \u001b[0mcmap\u001b[0m\u001b[0;34m=\u001b[0m\u001b[0mcmap\u001b[0m\u001b[0;34m,\u001b[0m \u001b[0mnorm\u001b[0m\u001b[0;34m=\u001b[0m\u001b[0mnorm\u001b[0m\u001b[0;34m,\u001b[0m \u001b[0maspect\u001b[0m\u001b[0;34m=\u001b[0m\u001b[0maspect\u001b[0m\u001b[0;34m,\u001b[0m\u001b[0;34m\u001b[0m\u001b[0;34m\u001b[0m\u001b[0m\n\u001b[1;32m   2726\u001b[0m         \u001b[0minterpolation\u001b[0m\u001b[0;34m=\u001b[0m\u001b[0minterpolation\u001b[0m\u001b[0;34m,\u001b[0m \u001b[0malpha\u001b[0m\u001b[0;34m=\u001b[0m\u001b[0malpha\u001b[0m\u001b[0;34m,\u001b[0m \u001b[0mvmin\u001b[0m\u001b[0;34m=\u001b[0m\u001b[0mvmin\u001b[0m\u001b[0;34m,\u001b[0m\u001b[0;34m\u001b[0m\u001b[0;34m\u001b[0m\u001b[0m\n",
      "\u001b[0;32m~/anaconda3/envs/aml-practical/lib/python3.8/site-packages/matplotlib/__init__.py\u001b[0m in \u001b[0;36minner\u001b[0;34m(ax, data, *args, **kwargs)\u001b[0m\n\u001b[1;32m   1445\u001b[0m     \u001b[0;32mdef\u001b[0m \u001b[0minner\u001b[0m\u001b[0;34m(\u001b[0m\u001b[0max\u001b[0m\u001b[0;34m,\u001b[0m \u001b[0;34m*\u001b[0m\u001b[0margs\u001b[0m\u001b[0;34m,\u001b[0m \u001b[0mdata\u001b[0m\u001b[0;34m=\u001b[0m\u001b[0;32mNone\u001b[0m\u001b[0;34m,\u001b[0m \u001b[0;34m**\u001b[0m\u001b[0mkwargs\u001b[0m\u001b[0;34m)\u001b[0m\u001b[0;34m:\u001b[0m\u001b[0;34m\u001b[0m\u001b[0;34m\u001b[0m\u001b[0m\n\u001b[1;32m   1446\u001b[0m         \u001b[0;32mif\u001b[0m \u001b[0mdata\u001b[0m \u001b[0;32mis\u001b[0m \u001b[0;32mNone\u001b[0m\u001b[0;34m:\u001b[0m\u001b[0;34m\u001b[0m\u001b[0;34m\u001b[0m\u001b[0m\n\u001b[0;32m-> 1447\u001b[0;31m             \u001b[0;32mreturn\u001b[0m \u001b[0mfunc\u001b[0m\u001b[0;34m(\u001b[0m\u001b[0max\u001b[0m\u001b[0;34m,\u001b[0m \u001b[0;34m*\u001b[0m\u001b[0mmap\u001b[0m\u001b[0;34m(\u001b[0m\u001b[0msanitize_sequence\u001b[0m\u001b[0;34m,\u001b[0m \u001b[0margs\u001b[0m\u001b[0;34m)\u001b[0m\u001b[0;34m,\u001b[0m \u001b[0;34m**\u001b[0m\u001b[0mkwargs\u001b[0m\u001b[0;34m)\u001b[0m\u001b[0;34m\u001b[0m\u001b[0;34m\u001b[0m\u001b[0m\n\u001b[0m\u001b[1;32m   1448\u001b[0m \u001b[0;34m\u001b[0m\u001b[0m\n\u001b[1;32m   1449\u001b[0m         \u001b[0mbound\u001b[0m \u001b[0;34m=\u001b[0m \u001b[0mnew_sig\u001b[0m\u001b[0;34m.\u001b[0m\u001b[0mbind\u001b[0m\u001b[0;34m(\u001b[0m\u001b[0max\u001b[0m\u001b[0;34m,\u001b[0m \u001b[0;34m*\u001b[0m\u001b[0margs\u001b[0m\u001b[0;34m,\u001b[0m \u001b[0;34m**\u001b[0m\u001b[0mkwargs\u001b[0m\u001b[0;34m)\u001b[0m\u001b[0;34m\u001b[0m\u001b[0;34m\u001b[0m\u001b[0m\n",
      "\u001b[0;32m~/anaconda3/envs/aml-practical/lib/python3.8/site-packages/matplotlib/axes/_axes.py\u001b[0m in \u001b[0;36mimshow\u001b[0;34m(self, X, cmap, norm, aspect, interpolation, alpha, vmin, vmax, origin, extent, filternorm, filterrad, resample, url, **kwargs)\u001b[0m\n\u001b[1;32m   5521\u001b[0m                               resample=resample, **kwargs)\n\u001b[1;32m   5522\u001b[0m \u001b[0;34m\u001b[0m\u001b[0m\n\u001b[0;32m-> 5523\u001b[0;31m         \u001b[0mim\u001b[0m\u001b[0;34m.\u001b[0m\u001b[0mset_data\u001b[0m\u001b[0;34m(\u001b[0m\u001b[0mX\u001b[0m\u001b[0;34m)\u001b[0m\u001b[0;34m\u001b[0m\u001b[0;34m\u001b[0m\u001b[0m\n\u001b[0m\u001b[1;32m   5524\u001b[0m         \u001b[0mim\u001b[0m\u001b[0;34m.\u001b[0m\u001b[0mset_alpha\u001b[0m\u001b[0;34m(\u001b[0m\u001b[0malpha\u001b[0m\u001b[0;34m)\u001b[0m\u001b[0;34m\u001b[0m\u001b[0;34m\u001b[0m\u001b[0m\n\u001b[1;32m   5525\u001b[0m         \u001b[0;32mif\u001b[0m \u001b[0mim\u001b[0m\u001b[0;34m.\u001b[0m\u001b[0mget_clip_path\u001b[0m\u001b[0;34m(\u001b[0m\u001b[0;34m)\u001b[0m \u001b[0;32mis\u001b[0m \u001b[0;32mNone\u001b[0m\u001b[0;34m:\u001b[0m\u001b[0;34m\u001b[0m\u001b[0;34m\u001b[0m\u001b[0m\n",
      "\u001b[0;32m~/anaconda3/envs/aml-practical/lib/python3.8/site-packages/matplotlib/image.py\u001b[0m in \u001b[0;36mset_data\u001b[0;34m(self, A)\u001b[0m\n\u001b[1;32m    709\u001b[0m         if not (self._A.ndim == 2\n\u001b[1;32m    710\u001b[0m                 or self._A.ndim == 3 and self._A.shape[-1] in [3, 4]):\n\u001b[0;32m--> 711\u001b[0;31m             raise TypeError(\"Invalid shape {} for image data\"\n\u001b[0m\u001b[1;32m    712\u001b[0m                             .format(self._A.shape))\n\u001b[1;32m    713\u001b[0m \u001b[0;34m\u001b[0m\u001b[0m\n",
      "\u001b[0;31mTypeError\u001b[0m: Invalid shape (64, 1, 28, 28) for image data"
     ]
    },
    {
     "data": {
      "image/png": "[encoded data removed]",
      "text/plain": [
       "<Figure size 432x288 with 1 Axes>"
      ]
     },
     "metadata": {
      "needs_background": "light"
     },
     "output_type": "display_data"
    }
   ],
   "source": [
    "# TODO: write some code here\n",
    "sample = torch.randn(64, 20)\n",
    "sample = model.decode(sample).view(64,1,28,28)\n",
    "print(sample)\n",
    "plt.imshow(sample.detach().numpy()[0])\n",
    "plt.colorbar()\n",
    "plt.show()\n",
    "\n"
   ]
  },
  {
   "cell_type": "markdown",
   "metadata": {},
   "source": [
    "### Latent space interpolation\n",
    "\n",
    "Now that we have learnt a latent representation, we can interpolate smoothly between two digits by linearly interpolating between them in the latent space.\n",
    "\n",
    "> **Task 5**: show the mean of the likelihood (image reconstruction) for a set latent vectors which are linearly interpolated between two test images in the latent space."
   ]
  },
  {
   "cell_type": "code",
   "execution_count": null,
   "metadata": {
    "scrolled": false
   },
   "outputs": [],
   "source": [
    "# TODO: write some code here\n",
    "\n",
    "\n"
   ]
  },
  {
   "cell_type": "markdown",
   "metadata": {},
   "source": [
    "### Random sampling of the posterior\n",
    "\n",
    "We can also generate random samples of $x$ given values of $z$ drawn from its prior distribution (a unit Gaussian).\n",
    "\n",
    "> **Task 6**: generate random latent vectors from the prior latent distribution and show the resulting likelihood means (image reconstructions)."
   ]
  },
  {
   "cell_type": "code",
   "execution_count": null,
   "metadata": {
    "scrolled": false
   },
   "outputs": [],
   "source": [
    "# TODO: write some code here\n",
    "\n",
    "\n"
   ]
  },
  {
   "cell_type": "markdown",
   "metadata": {},
   "source": [
    "## Extensions\n",
    "\n",
    "Have a go at these if you have time.\n",
    "\n",
    "> What happens to the performance when you reduce the dimensionality of the latent space?\n",
    "\n",
    "> Try using a Beta-VAE (https://openreview.net/forum?id=Sy2fzU9gl) : what happens when the KL term is made much stronger?\n",
    "\n",
    "> Try using a binary cross-entropy loss instead of a L2 loss in the loss function (e.g. https://github.com/pytorch/examples/blob/master/vae/main.py)\n",
    "\n",
    "> Try to run clustering in the latent space to label the test data."
   ]
  },
  {
   "cell_type": "code",
   "execution_count": null,
   "metadata": {},
   "outputs": [],
   "source": []
  }
 ],
 "metadata": {
  "kernelspec": {
   "display_name": "Python 3",
   "language": "python",
   "name": "python3"
  },
  "language_info": {
   "codemirror_mode": {
    "name": "ipython",
    "version": 3
   },
   "file_extension": ".py",
   "mimetype": "text/x-python",
   "name": "python",
   "nbconvert_exporter": "python",
   "pygments_lexer": "ipython3",
   "version": "3.8.5"
  }
 },
 "nbformat": 4,
 "nbformat_minor": 2
}
