{
 "cells": [
  {
   "cell_type": "code",
   "execution_count": 1,
   "id": "acting-marble",
   "metadata": {},
   "outputs": [],
   "source": [
    "#!/usr/bin/env python3\n",
    "from argparse import ArgumentParser\n",
    "import numpy as np\n",
    "import torch\n",
    "from data import PermutedMNIST\n",
    "from train import train\n",
    "from model import MLP\n",
    "import utils\n",
    "import random\n",
    "import matplotlib.pyplot as plt\n",
    "\n",
    "\n",
    "task_number = 2\n",
    "hidden_size1=512\n",
    "hidden_size2 = 256\n",
    "hidden_dropout_prob=0.5\n",
    "input_dropout_prob=0.2\n",
    "lamda=1000\n",
    "\n",
    "epochs_per_task = 10\n",
    "batch_size = 128\n",
    "test_size= 8192\n",
    "fisher_estimation_sample_size = 1024\n",
    "lr=1.e-2\n",
    "weight_decay = 0\n",
    "eval_log_interval = 250\n",
    "loss_log_interval= 250\n",
    "cuda=False\n"
   ]
  },
  {
   "cell_type": "code",
   "execution_count": 2,
   "id": "advised-slovenia",
   "metadata": {},
   "outputs": [
    {
     "data": {
      "image/png": "[encoded data removed]",
      "text/plain": [
       "<Figure size 432x288 with 6 Axes>"
      ]
     },
     "metadata": {},
     "output_type": "display_data"
    },
    {
     "data": {
      "image/png": "[encoded data removed]",
      "text/plain": [
       "<Figure size 432x288 with 6 Axes>"
      ]
     },
     "metadata": {},
     "output_type": "display_data"
    }
   ],
   "source": [
    "def imshow(img,labels):\n",
    "    fig = plt.figure()\n",
    "    for i in range(6):\n",
    "        plt.subplot(2,3,i+1)\n",
    "        plt.tight_layout()\n",
    "        plt.imshow(img[i].view(28,28), cmap='gray', interpolation='none')\n",
    "        plt.title(\"Ground Truth: {}\".format(labels[i]))\n",
    "        plt.xticks([])\n",
    "        plt.yticks([])\n",
    "            \n",
    "            \n",
    "def get_permute_mnist():\n",
    "   \n",
    "    train_loader = {}\n",
    "    test_loader = {}\n",
    "    idx = list(range(28 * 28))\n",
    "    for i in range(task_number):\n",
    "        #transform = torchvision.transforms.Compose([torchvision.transforms.ToTensor(),\n",
    "         #     torchvision.transforms.Lambda(lambda x: x.view(-1)[idx].view(1, 28, 28) )])\n",
    "\n",
    "        train_loader[i] = torch.utils.data.DataLoader(PermutedMNIST(train = True, permute_idx=idx),\n",
    "                                                      batch_size=batch_size,\n",
    "                                                      num_workers=4)\n",
    "        test_loader[i] = torch.utils.data.DataLoader(PermutedMNIST(train = False, permute_idx= idx),\n",
    "                                                     batch_size=batch_size)\n",
    "        random.shuffle(idx)\n",
    "    return train_loader, test_loader\n",
    "\n",
    "\n",
    "train_loader, test_loader = get_permute_mnist()\n",
    "\n",
    "#unpermuted data:\n",
    "examples_unpermuted = enumerate(train_loader[0])\n",
    "\n",
    "_, (example_data_unpermuted, example_targets_unpermuted) = next(examples_unpermuted)\n",
    "\n",
    "imshow(example_data_unpermuted[:6], example_targets_unpermuted[:6])\n",
    "#permuted data:\n",
    "examples_permuted = enumerate(train_loader[1])\n",
    "\n",
    "_, (example_data_permuted, example_targets_permuted) = next(examples_permuted)\n",
    "imshow(example_data_permuted[:6], example_targets_permuted[:6])"
   ]
  },
  {
   "cell_type": "code",
   "execution_count": 3,
   "id": "forced-argument",
   "metadata": {},
   "outputs": [],
   "source": [
    "def loss_plot(x):\n",
    "    for t, v in x.items():\n",
    "        plt.plot(list(range((t-1) * epochs_per_task, t * epochs_per_task)), v)\n",
    "\n",
    "def accuracy_plot(x):\n",
    "    for t, v in x.items():\n",
    "        plt.plot(list(range((t-1) * epochs_per_task, task_number * epochs_per_task)), v)\n",
    "    plt.ylim(0.8, 1)"
   ]
  },
  {
   "cell_type": "code",
   "execution_count": 4,
   "id": "expanded-anger",
   "metadata": {},
   "outputs": [],
   "source": [
    "def avg_precision_plot(precisions, labels = []): #precisions needs to be in the form of the return value of train\n",
    "    for num, precision in enumerate(precisions):    \n",
    "        avg_precisions = []\n",
    "        total_epochs = task_number*epochs_per_task\n",
    "        for epoch in range (total_epochs):\n",
    "            avg_precision = 0\n",
    "            tasks_considered = epoch // epochs_per_task +1 #gives 1 for first task, 2 for second,...\n",
    "            for i in range(1,tasks_considered+1): #\n",
    "                avg_precision += precision[i][epoch - (i-1)*epochs_per_task]\n",
    "            avg_precision/=tasks_considered\n",
    "            avg_precisions.append(avg_precision)\n",
    "        plt.ylim(0.88, 0.94)\n",
    "        if (len(labels) == len(precisions)):\n",
    "            plt.plot(range(total_epochs), avg_precisions, label = labels[num])\n",
    "        else:\n",
    "            plt.plot(range(total_epochs), avg_precisions)\n",
    "    plt.legend()\n",
    "    "
   ]
  },
  {
   "cell_type": "code",
   "execution_count": 5,
   "id": "critical-crest",
   "metadata": {},
   "outputs": [
    {
     "name": "stdout",
     "output_type": "stream",
     "text": [
      "MLP(\n",
      "  (fc1): Linear(in_features=784, out_features=512, bias=True)\n",
      "  (input_dropout): Dropout(p=0, inplace=False)\n",
      "  (fc2): Linear(in_features=512, out_features=256, bias=True)\n",
      "  (hidden_dropout): Dropout(p=0, inplace=False)\n",
      "  (fc3): Linear(in_features=256, out_features=10, bias=True)\n",
      "  (relu): ReLU()\n",
      "  (log_softmax): LogSoftmax(dim=1)\n",
      ")\n"
     ]
    }
   ],
   "source": [
    "# prepare the model.\n",
    "mlp_no_dropout = MLP( 28*28, 10,\n",
    "    hidden_size1,\n",
    "    hidden_size2,\n",
    "    0,\n",
    "    0,\n",
    "    lamda,\n",
    ")\n",
    "\n",
    "# initialize the parameters.\n",
    "utils.gaussian_initialize(mlp_no_dropout)\n",
    "\n",
    "# prepare the cuda if needed.\n",
    "if cuda:\n",
    "    mlp_no_dropout.cuda()\n",
    "\n",
    "print(mlp_no_dropout)"
   ]
  },
  {
   "cell_type": "code",
   "execution_count": 6,
   "id": "pursuant-period",
   "metadata": {},
   "outputs": [
    {
     "name": "stderr",
     "output_type": "stream",
     "text": [
      "0it [00:00, ?it/s]/home/jonas/anaconda3/envs/thesis/lib/python3.8/site-packages/torch/autograd/__init__.py:130: UserWarning: CUDA initialization: Found no NVIDIA driver on your system. Please check that you have an NVIDIA GPU and installed a driver from http://www.nvidia.com/Download/index.aspx (Triggered internally at  /opt/conda/conda-bld/pytorch_1607370172916/work/c10/cuda/CUDAFunctions.cpp:100.)\n",
      "  Variable._execution_engine.run_backward(\n",
      "=> task: 1/5 | epoch: 1/10 | progress: [60032/60000] (100%) | prec: 0.6667 | loss => ce: 1.742 / ewc: 0.0 / total: 1.742: : 469it [00:04, 94.30it/s]\n"
     ]
    },
    {
     "name": "stdout",
     "output_type": "stream",
     "text": [
      "Test Accuracy {1: [0.7112]}\n",
      "total loss {1: [1.7424699068069458]} cross entropy {1: [1.7424699068069458]} ewc {1: [0.0]}\n"
     ]
    },
    {
     "name": "stderr",
     "output_type": "stream",
     "text": [
      "=> task: 1/5 | epoch: 2/10 | progress: [60032/60000] (100%) | prec: 0.8021 | loss => ce: 0.7588 / ewc: 0.0 / total: 0.7588: : 469it [00:04, 103.11it/s]\n"
     ]
    },
    {
     "name": "stdout",
     "output_type": "stream",
     "text": [
      "Test Accuracy {1: [0.7112, 0.8328]}\n",
      "total loss {1: [1.7424699068069458, 0.7587773203849792]} cross entropy {1: [1.7424699068069458, 0.7587773203849792]} ewc {1: [0.0, 0.0]}\n"
     ]
    },
    {
     "name": "stderr",
     "output_type": "stream",
     "text": [
      "=> task: 1/5 | epoch: 3/10 | progress: [60032/60000] (100%) | prec: 0.875 | loss => ce: 0.5372 / ewc: 0.0 / total: 0.5372: : 469it [00:04, 106.16it/s] \n"
     ]
    },
    {
     "name": "stdout",
     "output_type": "stream",
     "text": [
      "Test Accuracy {1: [0.7112, 0.8328, 0.8733]}\n",
      "total loss {1: [1.7424699068069458, 0.7587773203849792, 0.5371651649475098]} cross entropy {1: [1.7424699068069458, 0.7587773203849792, 0.5371651649475098]} ewc {1: [0.0, 0.0, 0.0]}\n"
     ]
    },
    {
     "name": "stderr",
     "output_type": "stream",
     "text": [
      "=> task: 1/5 | epoch: 4/10 | progress: [60032/60000] (100%) | prec: 0.8958 | loss => ce: 0.4675 / ewc: 0.0 / total: 0.4675: : 469it [00:04, 102.19it/s]\n"
     ]
    },
    {
     "name": "stdout",
     "output_type": "stream",
     "text": [
      "Test Accuracy {1: [0.7112, 0.8328, 0.8733, 0.8906]}\n",
      "total loss {1: [1.7424699068069458, 0.7587773203849792, 0.5371651649475098, 0.4675321877002716]} cross entropy {1: [1.7424699068069458, 0.7587773203849792, 0.5371651649475098, 0.4675321877002716]} ewc {1: [0.0, 0.0, 0.0, 0.0]}\n"
     ]
    },
    {
     "name": "stderr",
     "output_type": "stream",
     "text": [
      "=> task: 1/5 | epoch: 5/10 | progress: [60032/60000] (100%) | prec: 0.8958 | loss => ce: 0.4333 / ewc: 0.0 / total: 0.4333: : 469it [00:04, 104.59it/s]\n"
     ]
    },
    {
     "name": "stdout",
     "output_type": "stream",
     "text": [
      "Test Accuracy {1: [0.7112, 0.8328, 0.8733, 0.8906, 0.8987]}\n",
      "total loss {1: [1.7424699068069458, 0.7587773203849792, 0.5371651649475098, 0.4675321877002716, 0.43332216143608093]} cross entropy {1: [1.7424699068069458, 0.7587773203849792, 0.5371651649475098, 0.4675321877002716, 0.43332216143608093]} ewc {1: [0.0, 0.0, 0.0, 0.0, 0.0]}\n"
     ]
    },
    {
     "name": "stderr",
     "output_type": "stream",
     "text": [
      "=> task: 1/5 | epoch: 6/10 | progress: [60032/60000] (100%) | prec: 0.9167 | loss => ce: 0.4103 / ewc: 0.0 / total: 0.4103: : 469it [00:04, 106.82it/s]\n"
     ]
    },
    {
     "name": "stdout",
     "output_type": "stream",
     "text": [
      "Test Accuracy {1: [0.7112, 0.8328, 0.8733, 0.8906, 0.8987, 0.9061]}\n",
      "total loss {1: [1.7424699068069458, 0.7587773203849792, 0.5371651649475098, 0.4675321877002716, 0.43332216143608093, 0.41030153632164]} cross entropy {1: [1.7424699068069458, 0.7587773203849792, 0.5371651649475098, 0.4675321877002716, 0.43332216143608093, 0.41030153632164]} ewc {1: [0.0, 0.0, 0.0, 0.0, 0.0, 0.0]}\n"
     ]
    },
    {
     "name": "stderr",
     "output_type": "stream",
     "text": [
      "=> task: 1/5 | epoch: 7/10 | progress: [60032/60000] (100%) | prec: 0.9375 | loss => ce: 0.3921 / ewc: 0.0 / total: 0.3921: : 469it [00:04, 105.97it/s]  \n"
     ]
    },
    {
     "name": "stdout",
     "output_type": "stream",
     "text": [
      "Test Accuracy {1: [0.7112, 0.8328, 0.8733, 0.8906, 0.8987, 0.9061, 0.9106]}\n",
      "total loss {1: [1.7424699068069458, 0.7587773203849792, 0.5371651649475098, 0.4675321877002716, 0.43332216143608093, 0.41030153632164, 0.39212846755981445]} cross entropy {1: [1.7424699068069458, 0.7587773203849792, 0.5371651649475098, 0.4675321877002716, 0.43332216143608093, 0.41030153632164, 0.39212846755981445]} ewc {1: [0.0, 0.0, 0.0, 0.0, 0.0, 0.0, 0.0]}\n"
     ]
    },
    {
     "name": "stderr",
     "output_type": "stream",
     "text": [
      "=> task: 1/5 | epoch: 8/10 | progress: [60032/60000] (100%) | prec: 0.9375 | loss => ce: 0.3769 / ewc: 0.0 / total: 0.3769: : 469it [00:04, 103.90it/s]  \n"
     ]
    },
    {
     "name": "stdout",
     "output_type": "stream",
     "text": [
      "Test Accuracy {1: [0.7112, 0.8328, 0.8733, 0.8906, 0.8987, 0.9061, 0.9106, 0.9147]}\n",
      "total loss {1: [1.7424699068069458, 0.7587773203849792, 0.5371651649475098, 0.4675321877002716, 0.43332216143608093, 0.41030153632164, 0.39212846755981445, 0.37692880630493164]} cross entropy {1: [1.7424699068069458, 0.7587773203849792, 0.5371651649475098, 0.4675321877002716, 0.43332216143608093, 0.41030153632164, 0.39212846755981445, 0.37692880630493164]} ewc {1: [0.0, 0.0, 0.0, 0.0, 0.0, 0.0, 0.0, 0.0]}\n"
     ]
    },
    {
     "name": "stderr",
     "output_type": "stream",
     "text": [
      "=> task: 1/5 | epoch: 9/10 | progress: [60032/60000] (100%) | prec: 0.9375 | loss => ce: 0.364 / ewc: 0.0 / total: 0.364: : 469it [00:04, 107.79it/s]   \n"
     ]
    },
    {
     "name": "stdout",
     "output_type": "stream",
     "text": [
      "Test Accuracy {1: [0.7112, 0.8328, 0.8733, 0.8906, 0.8987, 0.9061, 0.9106, 0.9147, 0.9189]}\n",
      "total loss {1: [1.7424699068069458, 0.7587773203849792, 0.5371651649475098, 0.4675321877002716, 0.43332216143608093, 0.41030153632164, 0.39212846755981445, 0.37692880630493164, 0.36397942900657654]} cross entropy {1: [1.7424699068069458, 0.7587773203849792, 0.5371651649475098, 0.4675321877002716, 0.43332216143608093, 0.41030153632164, 0.39212846755981445, 0.37692880630493164, 0.36397942900657654]} ewc {1: [0.0, 0.0, 0.0, 0.0, 0.0, 0.0, 0.0, 0.0, 0.0]}\n"
     ]
    },
    {
     "name": "stderr",
     "output_type": "stream",
     "text": [
      "=> task: 1/5 | epoch: 10/10 | progress: [60032/60000] (100%) | prec: 0.9375 | loss => ce: 0.3528 / ewc: 0.0 / total: 0.3528: : 469it [00:04, 105.68it/s]  \n"
     ]
    },
    {
     "name": "stdout",
     "output_type": "stream",
     "text": [
      "Test Accuracy {1: [0.7112, 0.8328, 0.8733, 0.8906, 0.8987, 0.9061, 0.9106, 0.9147, 0.9189, 0.9232]}\n",
      "total loss {1: [1.7424699068069458, 0.7587773203849792, 0.5371651649475098, 0.4675321877002716, 0.43332216143608093, 0.41030153632164, 0.39212846755981445, 0.37692880630493164, 0.36397942900657654, 0.35279712080955505]} cross entropy {1: [1.7424699068069458, 0.7587773203849792, 0.5371651649475098, 0.4675321877002716, 0.43332216143608093, 0.41030153632164, 0.39212846755981445, 0.37692880630493164, 0.36397942900657654, 0.35279712080955505]} ewc {1: [0.0, 0.0, 0.0, 0.0, 0.0, 0.0, 0.0, 0.0, 0.0, 0.0]}\n"
     ]
    },
    {
     "name": "stderr",
     "output_type": "stream",
     "text": [
      "=> task: 2/5 | epoch: 1/10 | progress: [60032/60000] (100%) | prec: 0.8854 | loss => ce: 0.4976 / ewc: 0.0 / total: 0.4976: : 469it [00:04, 102.20it/s]\n"
     ]
    },
    {
     "name": "stdout",
     "output_type": "stream",
     "text": [
      "Test Accuracy {1: [0.7112, 0.8328, 0.8733, 0.8906, 0.8987, 0.9061, 0.9106, 0.9147, 0.9189, 0.9232, 0.9102], 2: [0.885]}\n",
      "total loss {1: [1.7424699068069458, 0.7587773203849792, 0.5371651649475098, 0.4675321877002716, 0.43332216143608093, 0.41030153632164, 0.39212846755981445, 0.37692880630493164, 0.36397942900657654, 0.35279712080955505], 2: [0.4976375997066498]} cross entropy {1: [1.7424699068069458, 0.7587773203849792, 0.5371651649475098, 0.4675321877002716, 0.43332216143608093, 0.41030153632164, 0.39212846755981445, 0.37692880630493164, 0.36397942900657654, 0.35279712080955505], 2: [0.4976375997066498]} ewc {1: [0.0, 0.0, 0.0, 0.0, 0.0, 0.0, 0.0, 0.0, 0.0, 0.0], 2: [0.0]}\n"
     ]
    },
    {
     "name": "stderr",
     "output_type": "stream",
     "text": [
      "=> task: 2/5 | epoch: 2/10 | progress: [60032/60000] (100%) | prec: 0.8958 | loss => ce: 0.4123 / ewc: 0.0 / total: 0.4123: : 469it [00:04, 108.89it/s]\n"
     ]
    },
    {
     "ename": "KeyboardInterrupt",
     "evalue": "",
     "output_type": "error",
     "traceback": [
      "\u001b[0;31m---------------------------------------------------------------------------\u001b[0m",
      "\u001b[0;31mKeyboardInterrupt\u001b[0m                         Traceback (most recent call last)",
      "\u001b[0;32m<ipython-input-6-6ec13c42098b>\u001b[0m in \u001b[0;36m<module>\u001b[0;34m\u001b[0m\n\u001b[1;32m      1\u001b[0m \u001b[0;31m# run the standard experiment.\u001b[0m\u001b[0;34m\u001b[0m\u001b[0;34m\u001b[0m\u001b[0;34m\u001b[0m\u001b[0m\n\u001b[1;32m      2\u001b[0m \u001b[0mconsolidate\u001b[0m \u001b[0;34m=\u001b[0m \u001b[0;32mFalse\u001b[0m\u001b[0;34m\u001b[0m\u001b[0;34m\u001b[0m\u001b[0m\n\u001b[0;32m----> 3\u001b[0;31m standard_prec_no_dropout, standard_total_loss_no_dropout, standard_ce_loss_no_dropout, standard_ewc_loss_no_dropout = train(\n\u001b[0m\u001b[1;32m      4\u001b[0m     \u001b[0mmlp_no_dropout\u001b[0m\u001b[0;34m,\u001b[0m \u001b[0mtrain_loader\u001b[0m\u001b[0;34m,\u001b[0m \u001b[0mtest_loader\u001b[0m\u001b[0;34m,\u001b[0m\u001b[0;34m\u001b[0m\u001b[0;34m\u001b[0m\u001b[0m\n\u001b[1;32m      5\u001b[0m     \u001b[0mepochs_per_task\u001b[0m\u001b[0;34m,\u001b[0m\u001b[0;34m\u001b[0m\u001b[0;34m\u001b[0m\u001b[0m\n",
      "\u001b[0;32m~/Schreibtisch/University-Coding/Masters_thesis/ewc1 copy/train.py\u001b[0m in \u001b[0;36mtrain\u001b[0;34m(model, train_loader, test_loader, epochs_per_task, batch_size, test_size, consolidate, fisher_estimation_sample_size, lr, weight_decay, loss_log_interval, eval_log_interval, cuda)\u001b[0m\n\u001b[1;32m     79\u001b[0m \u001b[0;34m\u001b[0m\u001b[0m\n\u001b[1;32m     80\u001b[0m             \u001b[0;32mfor\u001b[0m \u001b[0mi\u001b[0m \u001b[0;32min\u001b[0m \u001b[0mrange\u001b[0m\u001b[0;34m(\u001b[0m\u001b[0;36m1\u001b[0m\u001b[0;34m,\u001b[0m\u001b[0mtask\u001b[0m \u001b[0;34m+\u001b[0m \u001b[0;36m1\u001b[0m\u001b[0;34m)\u001b[0m\u001b[0;34m:\u001b[0m\u001b[0;34m\u001b[0m\u001b[0;34m\u001b[0m\u001b[0m\n\u001b[0;32m---> 81\u001b[0;31m                 \u001b[0macc\u001b[0m\u001b[0;34m[\u001b[0m\u001b[0mi\u001b[0m\u001b[0;34m]\u001b[0m\u001b[0;34m.\u001b[0m\u001b[0mappend\u001b[0m\u001b[0;34m(\u001b[0m\u001b[0mutils\u001b[0m\u001b[0;34m.\u001b[0m\u001b[0mvalidate\u001b[0m\u001b[0;34m(\u001b[0m\u001b[0mmodel\u001b[0m\u001b[0;34m,\u001b[0m \u001b[0mtest_loader\u001b[0m\u001b[0;34m[\u001b[0m\u001b[0mi\u001b[0m\u001b[0;34m-\u001b[0m\u001b[0;36m1\u001b[0m\u001b[0;34m]\u001b[0m\u001b[0;34m,\u001b[0m \u001b[0mcuda\u001b[0m\u001b[0;34m=\u001b[0m\u001b[0mcuda\u001b[0m\u001b[0;34m,\u001b[0m \u001b[0mverbose\u001b[0m\u001b[0;34m=\u001b[0m\u001b[0;32mFalse\u001b[0m\u001b[0;34m)\u001b[0m\u001b[0;34m)\u001b[0m\u001b[0;34m\u001b[0m\u001b[0;34m\u001b[0m\u001b[0m\n\u001b[0m\u001b[1;32m     82\u001b[0m \u001b[0;34m\u001b[0m\u001b[0m\n\u001b[1;32m     83\u001b[0m             '''\n",
      "\u001b[0;32m~/Schreibtisch/University-Coding/Masters_thesis/ewc1 copy/utils.py\u001b[0m in \u001b[0;36mvalidate\u001b[0;34m(model, data_loader, cuda, verbose)\u001b[0m\n\u001b[1;32m     59\u001b[0m     \u001b[0mtotal_tested\u001b[0m \u001b[0;34m=\u001b[0m \u001b[0;36m0\u001b[0m\u001b[0;34m\u001b[0m\u001b[0;34m\u001b[0m\u001b[0m\n\u001b[1;32m     60\u001b[0m     \u001b[0mtotal_correct\u001b[0m \u001b[0;34m=\u001b[0m \u001b[0;36m0\u001b[0m\u001b[0;34m\u001b[0m\u001b[0;34m\u001b[0m\u001b[0m\n\u001b[0;32m---> 61\u001b[0;31m     \u001b[0;32mfor\u001b[0m \u001b[0mx\u001b[0m\u001b[0;34m,\u001b[0m \u001b[0my\u001b[0m \u001b[0;32min\u001b[0m \u001b[0mdata_loader\u001b[0m\u001b[0;34m:\u001b[0m\u001b[0;34m\u001b[0m\u001b[0;34m\u001b[0m\u001b[0m\n\u001b[0m\u001b[1;32m     62\u001b[0m         \u001b[0mscores\u001b[0m \u001b[0;34m=\u001b[0m \u001b[0mmodel\u001b[0m\u001b[0;34m(\u001b[0m\u001b[0mx\u001b[0m\u001b[0;34m)\u001b[0m\u001b[0;34m\u001b[0m\u001b[0;34m\u001b[0m\u001b[0m\n\u001b[1;32m     63\u001b[0m         \u001b[0m_\u001b[0m\u001b[0;34m,\u001b[0m \u001b[0mpredicted\u001b[0m \u001b[0;34m=\u001b[0m \u001b[0mscores\u001b[0m\u001b[0;34m.\u001b[0m\u001b[0mmax\u001b[0m\u001b[0;34m(\u001b[0m\u001b[0;36m1\u001b[0m\u001b[0;34m)\u001b[0m\u001b[0;34m\u001b[0m\u001b[0;34m\u001b[0m\u001b[0m\n",
      "\u001b[0;32m~/anaconda3/envs/thesis/lib/python3.8/site-packages/torch/utils/data/dataloader.py\u001b[0m in \u001b[0;36m__next__\u001b[0;34m(self)\u001b[0m\n\u001b[1;32m    433\u001b[0m         \u001b[0;32mif\u001b[0m \u001b[0mself\u001b[0m\u001b[0;34m.\u001b[0m\u001b[0m_sampler_iter\u001b[0m \u001b[0;32mis\u001b[0m \u001b[0;32mNone\u001b[0m\u001b[0;34m:\u001b[0m\u001b[0;34m\u001b[0m\u001b[0;34m\u001b[0m\u001b[0m\n\u001b[1;32m    434\u001b[0m             \u001b[0mself\u001b[0m\u001b[0;34m.\u001b[0m\u001b[0m_reset\u001b[0m\u001b[0;34m(\u001b[0m\u001b[0;34m)\u001b[0m\u001b[0;34m\u001b[0m\u001b[0;34m\u001b[0m\u001b[0m\n\u001b[0;32m--> 435\u001b[0;31m         \u001b[0mdata\u001b[0m \u001b[0;34m=\u001b[0m \u001b[0mself\u001b[0m\u001b[0;34m.\u001b[0m\u001b[0m_next_data\u001b[0m\u001b[0;34m(\u001b[0m\u001b[0;34m)\u001b[0m\u001b[0;34m\u001b[0m\u001b[0;34m\u001b[0m\u001b[0m\n\u001b[0m\u001b[1;32m    436\u001b[0m         \u001b[0mself\u001b[0m\u001b[0;34m.\u001b[0m\u001b[0m_num_yielded\u001b[0m \u001b[0;34m+=\u001b[0m \u001b[0;36m1\u001b[0m\u001b[0;34m\u001b[0m\u001b[0;34m\u001b[0m\u001b[0m\n\u001b[1;32m    437\u001b[0m         \u001b[0;32mif\u001b[0m \u001b[0mself\u001b[0m\u001b[0;34m.\u001b[0m\u001b[0m_dataset_kind\u001b[0m \u001b[0;34m==\u001b[0m \u001b[0m_DatasetKind\u001b[0m\u001b[0;34m.\u001b[0m\u001b[0mIterable\u001b[0m \u001b[0;32mand\u001b[0m\u001b[0;31m \u001b[0m\u001b[0;31m\\\u001b[0m\u001b[0;34m\u001b[0m\u001b[0;34m\u001b[0m\u001b[0m\n",
      "\u001b[0;32m~/anaconda3/envs/thesis/lib/python3.8/site-packages/torch/utils/data/dataloader.py\u001b[0m in \u001b[0;36m_next_data\u001b[0;34m(self)\u001b[0m\n\u001b[1;32m    473\u001b[0m     \u001b[0;32mdef\u001b[0m \u001b[0m_next_data\u001b[0m\u001b[0;34m(\u001b[0m\u001b[0mself\u001b[0m\u001b[0;34m)\u001b[0m\u001b[0;34m:\u001b[0m\u001b[0;34m\u001b[0m\u001b[0;34m\u001b[0m\u001b[0m\n\u001b[1;32m    474\u001b[0m         \u001b[0mindex\u001b[0m \u001b[0;34m=\u001b[0m \u001b[0mself\u001b[0m\u001b[0;34m.\u001b[0m\u001b[0m_next_index\u001b[0m\u001b[0;34m(\u001b[0m\u001b[0;34m)\u001b[0m  \u001b[0;31m# may raise StopIteration\u001b[0m\u001b[0;34m\u001b[0m\u001b[0;34m\u001b[0m\u001b[0m\n\u001b[0;32m--> 475\u001b[0;31m         \u001b[0mdata\u001b[0m \u001b[0;34m=\u001b[0m \u001b[0mself\u001b[0m\u001b[0;34m.\u001b[0m\u001b[0m_dataset_fetcher\u001b[0m\u001b[0;34m.\u001b[0m\u001b[0mfetch\u001b[0m\u001b[0;34m(\u001b[0m\u001b[0mindex\u001b[0m\u001b[0;34m)\u001b[0m  \u001b[0;31m# may raise StopIteration\u001b[0m\u001b[0;34m\u001b[0m\u001b[0;34m\u001b[0m\u001b[0m\n\u001b[0m\u001b[1;32m    476\u001b[0m         \u001b[0;32mif\u001b[0m \u001b[0mself\u001b[0m\u001b[0;34m.\u001b[0m\u001b[0m_pin_memory\u001b[0m\u001b[0;34m:\u001b[0m\u001b[0;34m\u001b[0m\u001b[0;34m\u001b[0m\u001b[0m\n\u001b[1;32m    477\u001b[0m             \u001b[0mdata\u001b[0m \u001b[0;34m=\u001b[0m \u001b[0m_utils\u001b[0m\u001b[0;34m.\u001b[0m\u001b[0mpin_memory\u001b[0m\u001b[0;34m.\u001b[0m\u001b[0mpin_memory\u001b[0m\u001b[0;34m(\u001b[0m\u001b[0mdata\u001b[0m\u001b[0;34m)\u001b[0m\u001b[0;34m\u001b[0m\u001b[0;34m\u001b[0m\u001b[0m\n",
      "\u001b[0;32m~/anaconda3/envs/thesis/lib/python3.8/site-packages/torch/utils/data/_utils/fetch.py\u001b[0m in \u001b[0;36mfetch\u001b[0;34m(self, possibly_batched_index)\u001b[0m\n\u001b[1;32m     45\u001b[0m         \u001b[0;32melse\u001b[0m\u001b[0;34m:\u001b[0m\u001b[0;34m\u001b[0m\u001b[0;34m\u001b[0m\u001b[0m\n\u001b[1;32m     46\u001b[0m             \u001b[0mdata\u001b[0m \u001b[0;34m=\u001b[0m \u001b[0mself\u001b[0m\u001b[0;34m.\u001b[0m\u001b[0mdataset\u001b[0m\u001b[0;34m[\u001b[0m\u001b[0mpossibly_batched_index\u001b[0m\u001b[0;34m]\u001b[0m\u001b[0;34m\u001b[0m\u001b[0;34m\u001b[0m\u001b[0m\n\u001b[0;32m---> 47\u001b[0;31m         \u001b[0;32mreturn\u001b[0m \u001b[0mself\u001b[0m\u001b[0;34m.\u001b[0m\u001b[0mcollate_fn\u001b[0m\u001b[0;34m(\u001b[0m\u001b[0mdata\u001b[0m\u001b[0;34m)\u001b[0m\u001b[0;34m\u001b[0m\u001b[0;34m\u001b[0m\u001b[0m\n\u001b[0m",
      "\u001b[0;32m~/anaconda3/envs/thesis/lib/python3.8/site-packages/torch/utils/data/_utils/collate.py\u001b[0m in \u001b[0;36mdefault_collate\u001b[0;34m(batch)\u001b[0m\n\u001b[1;32m     81\u001b[0m             \u001b[0;32mraise\u001b[0m \u001b[0mRuntimeError\u001b[0m\u001b[0;34m(\u001b[0m\u001b[0;34m'each element in list of batch should be of equal size'\u001b[0m\u001b[0;34m)\u001b[0m\u001b[0;34m\u001b[0m\u001b[0;34m\u001b[0m\u001b[0m\n\u001b[1;32m     82\u001b[0m         \u001b[0mtransposed\u001b[0m \u001b[0;34m=\u001b[0m \u001b[0mzip\u001b[0m\u001b[0;34m(\u001b[0m\u001b[0;34m*\u001b[0m\u001b[0mbatch\u001b[0m\u001b[0;34m)\u001b[0m\u001b[0;34m\u001b[0m\u001b[0;34m\u001b[0m\u001b[0m\n\u001b[0;32m---> 83\u001b[0;31m         \u001b[0;32mreturn\u001b[0m \u001b[0;34m[\u001b[0m\u001b[0mdefault_collate\u001b[0m\u001b[0;34m(\u001b[0m\u001b[0msamples\u001b[0m\u001b[0;34m)\u001b[0m \u001b[0;32mfor\u001b[0m \u001b[0msamples\u001b[0m \u001b[0;32min\u001b[0m \u001b[0mtransposed\u001b[0m\u001b[0;34m]\u001b[0m\u001b[0;34m\u001b[0m\u001b[0;34m\u001b[0m\u001b[0m\n\u001b[0m\u001b[1;32m     84\u001b[0m \u001b[0;34m\u001b[0m\u001b[0m\n\u001b[1;32m     85\u001b[0m     \u001b[0;32mraise\u001b[0m \u001b[0mTypeError\u001b[0m\u001b[0;34m(\u001b[0m\u001b[0mdefault_collate_err_msg_format\u001b[0m\u001b[0;34m.\u001b[0m\u001b[0mformat\u001b[0m\u001b[0;34m(\u001b[0m\u001b[0melem_type\u001b[0m\u001b[0;34m)\u001b[0m\u001b[0;34m)\u001b[0m\u001b[0;34m\u001b[0m\u001b[0;34m\u001b[0m\u001b[0m\n",
      "\u001b[0;32m~/anaconda3/envs/thesis/lib/python3.8/site-packages/torch/utils/data/_utils/collate.py\u001b[0m in \u001b[0;36m<listcomp>\u001b[0;34m(.0)\u001b[0m\n\u001b[1;32m     81\u001b[0m             \u001b[0;32mraise\u001b[0m \u001b[0mRuntimeError\u001b[0m\u001b[0;34m(\u001b[0m\u001b[0;34m'each element in list of batch should be of equal size'\u001b[0m\u001b[0;34m)\u001b[0m\u001b[0;34m\u001b[0m\u001b[0;34m\u001b[0m\u001b[0m\n\u001b[1;32m     82\u001b[0m         \u001b[0mtransposed\u001b[0m \u001b[0;34m=\u001b[0m \u001b[0mzip\u001b[0m\u001b[0;34m(\u001b[0m\u001b[0;34m*\u001b[0m\u001b[0mbatch\u001b[0m\u001b[0;34m)\u001b[0m\u001b[0;34m\u001b[0m\u001b[0;34m\u001b[0m\u001b[0m\n\u001b[0;32m---> 83\u001b[0;31m         \u001b[0;32mreturn\u001b[0m \u001b[0;34m[\u001b[0m\u001b[0mdefault_collate\u001b[0m\u001b[0;34m(\u001b[0m\u001b[0msamples\u001b[0m\u001b[0;34m)\u001b[0m \u001b[0;32mfor\u001b[0m \u001b[0msamples\u001b[0m \u001b[0;32min\u001b[0m \u001b[0mtransposed\u001b[0m\u001b[0;34m]\u001b[0m\u001b[0;34m\u001b[0m\u001b[0;34m\u001b[0m\u001b[0m\n\u001b[0m\u001b[1;32m     84\u001b[0m \u001b[0;34m\u001b[0m\u001b[0m\n\u001b[1;32m     85\u001b[0m     \u001b[0;32mraise\u001b[0m \u001b[0mTypeError\u001b[0m\u001b[0;34m(\u001b[0m\u001b[0mdefault_collate_err_msg_format\u001b[0m\u001b[0;34m.\u001b[0m\u001b[0mformat\u001b[0m\u001b[0;34m(\u001b[0m\u001b[0melem_type\u001b[0m\u001b[0;34m)\u001b[0m\u001b[0;34m)\u001b[0m\u001b[0;34m\u001b[0m\u001b[0;34m\u001b[0m\u001b[0m\n",
      "\u001b[0;32m~/anaconda3/envs/thesis/lib/python3.8/site-packages/torch/utils/data/_utils/collate.py\u001b[0m in \u001b[0;36mdefault_collate\u001b[0;34m(batch)\u001b[0m\n\u001b[1;32m     53\u001b[0m             \u001b[0mstorage\u001b[0m \u001b[0;34m=\u001b[0m \u001b[0melem\u001b[0m\u001b[0;34m.\u001b[0m\u001b[0mstorage\u001b[0m\u001b[0;34m(\u001b[0m\u001b[0;34m)\u001b[0m\u001b[0;34m.\u001b[0m\u001b[0m_new_shared\u001b[0m\u001b[0;34m(\u001b[0m\u001b[0mnumel\u001b[0m\u001b[0;34m)\u001b[0m\u001b[0;34m\u001b[0m\u001b[0;34m\u001b[0m\u001b[0m\n\u001b[1;32m     54\u001b[0m             \u001b[0mout\u001b[0m \u001b[0;34m=\u001b[0m \u001b[0melem\u001b[0m\u001b[0;34m.\u001b[0m\u001b[0mnew\u001b[0m\u001b[0;34m(\u001b[0m\u001b[0mstorage\u001b[0m\u001b[0;34m)\u001b[0m\u001b[0;34m\u001b[0m\u001b[0;34m\u001b[0m\u001b[0m\n\u001b[0;32m---> 55\u001b[0;31m         \u001b[0;32mreturn\u001b[0m \u001b[0mtorch\u001b[0m\u001b[0;34m.\u001b[0m\u001b[0mstack\u001b[0m\u001b[0;34m(\u001b[0m\u001b[0mbatch\u001b[0m\u001b[0;34m,\u001b[0m \u001b[0;36m0\u001b[0m\u001b[0;34m,\u001b[0m \u001b[0mout\u001b[0m\u001b[0;34m=\u001b[0m\u001b[0mout\u001b[0m\u001b[0;34m)\u001b[0m\u001b[0;34m\u001b[0m\u001b[0;34m\u001b[0m\u001b[0m\n\u001b[0m\u001b[1;32m     56\u001b[0m     \u001b[0;32melif\u001b[0m \u001b[0melem_type\u001b[0m\u001b[0;34m.\u001b[0m\u001b[0m__module__\u001b[0m \u001b[0;34m==\u001b[0m \u001b[0;34m'numpy'\u001b[0m \u001b[0;32mand\u001b[0m \u001b[0melem_type\u001b[0m\u001b[0;34m.\u001b[0m\u001b[0m__name__\u001b[0m \u001b[0;34m!=\u001b[0m \u001b[0;34m'str_'\u001b[0m\u001b[0;31m \u001b[0m\u001b[0;31m\\\u001b[0m\u001b[0;34m\u001b[0m\u001b[0;34m\u001b[0m\u001b[0m\n\u001b[1;32m     57\u001b[0m             \u001b[0;32mand\u001b[0m \u001b[0melem_type\u001b[0m\u001b[0;34m.\u001b[0m\u001b[0m__name__\u001b[0m \u001b[0;34m!=\u001b[0m \u001b[0;34m'string_'\u001b[0m\u001b[0;34m:\u001b[0m\u001b[0;34m\u001b[0m\u001b[0;34m\u001b[0m\u001b[0m\n",
      "\u001b[0;31mKeyboardInterrupt\u001b[0m: "
     ]
    }
   ],
   "source": [
    "# run the standard experiment.\n",
    "consolidate = False\n",
    "standard_prec_no_dropout, standard_total_loss_no_dropout, standard_ce_loss_no_dropout, standard_ewc_loss_no_dropout = train(\n",
    "    mlp_no_dropout, train_loader, test_loader,\n",
    "    epochs_per_task,\n",
    "    batch_size,\n",
    "    test_size,\n",
    "    consolidate,\n",
    "    fisher_estimation_sample_size,\n",
    "    lr,\n",
    "    weight_decay,\n",
    "    eval_log_interval,\n",
    "    loss_log_interval,\n",
    "    cuda\n",
    ")"
   ]
  },
  {
   "cell_type": "code",
   "execution_count": null,
   "id": "continuous-mongolia",
   "metadata": {},
   "outputs": [],
   "source": [
    "loss_plot(standard_total_loss_no_dropout)"
   ]
  },
  {
   "cell_type": "code",
   "execution_count": null,
   "id": "terminal-silver",
   "metadata": {},
   "outputs": [],
   "source": [
    "accuracy_plot(standard_prec_no_dropout)"
   ]
  },
  {
   "cell_type": "code",
   "execution_count": null,
   "id": "functional-galaxy",
   "metadata": {},
   "outputs": [],
   "source": [
    "avg_precision_plot([standard_prec_no_dropout])"
   ]
  },
  {
   "cell_type": "code",
   "execution_count": null,
   "id": "requested-trace",
   "metadata": {},
   "outputs": [
    {
     "name": "stderr",
     "output_type": "stream",
     "text": [
      "0it [00:00, ?it/s]/home/jonas/anaconda3/envs/thesis/lib/python3.8/site-packages/torch/autograd/__init__.py:130: UserWarning: CUDA initialization: Found no NVIDIA driver on your system. Please check that you have an NVIDIA GPU and installed a driver from http://www.nvidia.com/Download/index.aspx (Triggered internally at  /opt/conda/conda-bld/pytorch_1607370172916/work/c10/cuda/CUDAFunctions.cpp:100.)\n",
      "  Variable._execution_engine.run_backward(\n",
      "=> task: 1/2 | epoch: 1/10 | progress: [60032/60000] (100%) | prec: 0.6354 | loss => ce: 1.865 / ewc: 0.0 / total: 1.865: : 469it [00:07, 60.11it/s]\n"
     ]
    },
    {
     "name": "stdout",
     "output_type": "stream",
     "text": [
      "Test Accuracy {1: [0.6999]}\n",
      "total loss {1: [1.8648720979690552]} cross entropy {1: [1.8648720979690552]} ewc {1: [0.0]}\n"
     ]
    },
    {
     "name": "stderr",
     "output_type": "stream",
     "text": [
      "=> task: 1/2 | epoch: 2/10 | progress: [60032/60000] (100%) | prec: 0.7917 | loss => ce: 0.8169 / ewc: 0.0 / total: 0.8169: : 469it [00:07, 62.93it/s]\n"
     ]
    },
    {
     "name": "stdout",
     "output_type": "stream",
     "text": [
      "Test Accuracy {1: [0.6999, 0.8253]}\n",
      "total loss {1: [1.8648720979690552, 0.8169098496437073]} cross entropy {1: [1.8648720979690552, 0.8169098496437073]} ewc {1: [0.0, 0.0]}\n"
     ]
    },
    {
     "name": "stderr",
     "output_type": "stream",
     "text": [
      "=> task: 1/2 | epoch: 3/10 | progress: [60032/60000] (100%) | prec: 0.8438 | loss => ce: 0.5565 / ewc: 0.0 / total: 0.5565: : 469it [00:07, 63.85it/s]\n"
     ]
    },
    {
     "name": "stdout",
     "output_type": "stream",
     "text": [
      "Test Accuracy {1: [0.6999, 0.8253, 0.87]}\n",
      "total loss {1: [1.8648720979690552, 0.8169098496437073, 0.5565362572669983]} cross entropy {1: [1.8648720979690552, 0.8169098496437073, 0.5565362572669983]} ewc {1: [0.0, 0.0, 0.0]}\n"
     ]
    },
    {
     "name": "stderr",
     "output_type": "stream",
     "text": [
      "=> task: 1/2 | epoch: 4/10 | progress: [60032/60000] (100%) | prec: 0.8854 | loss => ce: 0.4736 / ewc: 0.0 / total: 0.4736: : 469it [00:07, 64.24it/s]\n"
     ]
    },
    {
     "name": "stdout",
     "output_type": "stream",
     "text": [
      "Test Accuracy {1: [0.6999, 0.8253, 0.87, 0.8864]}\n",
      "total loss {1: [1.8648720979690552, 0.8169098496437073, 0.5565362572669983, 0.47355595231056213]} cross entropy {1: [1.8648720979690552, 0.8169098496437073, 0.5565362572669983, 0.47355595231056213]} ewc {1: [0.0, 0.0, 0.0, 0.0]}\n"
     ]
    },
    {
     "name": "stderr",
     "output_type": "stream",
     "text": [
      "=> task: 1/2 | epoch: 5/10 | progress: [60032/60000] (100%) | prec: 0.9062 | loss => ce: 0.4316 / ewc: 0.0 / total: 0.4316: : 469it [00:07, 64.10it/s]\n"
     ]
    },
    {
     "name": "stdout",
     "output_type": "stream",
     "text": [
      "Test Accuracy {1: [0.6999, 0.8253, 0.87, 0.8864, 0.8951]}\n",
      "total loss {1: [1.8648720979690552, 0.8169098496437073, 0.5565362572669983, 0.47355595231056213, 0.43160247802734375]} cross entropy {1: [1.8648720979690552, 0.8169098496437073, 0.5565362572669983, 0.47355595231056213, 0.43160247802734375]} ewc {1: [0.0, 0.0, 0.0, 0.0, 0.0]}\n"
     ]
    },
    {
     "name": "stderr",
     "output_type": "stream",
     "text": [
      "=> task: 1/2 | epoch: 6/10 | progress: [60032/60000] (100%) | prec: 0.9375 | loss => ce: 0.4044 / ewc: 0.0 / total: 0.4044: : 469it [00:07, 64.37it/s]  \n"
     ]
    },
    {
     "name": "stdout",
     "output_type": "stream",
     "text": [
      "Test Accuracy {1: [0.6999, 0.8253, 0.87, 0.8864, 0.8951, 0.902]}\n",
      "total loss {1: [1.8648720979690552, 0.8169098496437073, 0.5565362572669983, 0.47355595231056213, 0.43160247802734375, 0.40442442893981934]} cross entropy {1: [1.8648720979690552, 0.8169098496437073, 0.5565362572669983, 0.47355595231056213, 0.43160247802734375, 0.40442442893981934]} ewc {1: [0.0, 0.0, 0.0, 0.0, 0.0, 0.0]}\n"
     ]
    },
    {
     "name": "stderr",
     "output_type": "stream",
     "text": [
      "=> task: 1/2 | epoch: 7/10 | progress: [60032/60000] (100%) | prec: 0.9375 | loss => ce: 0.3839 / ewc: 0.0 / total: 0.3839: : 469it [00:07, 64.48it/s]  \n"
     ]
    },
    {
     "name": "stdout",
     "output_type": "stream",
     "text": [
      "Test Accuracy {1: [0.6999, 0.8253, 0.87, 0.8864, 0.8951, 0.902, 0.9075]}\n",
      "total loss {1: [1.8648720979690552, 0.8169098496437073, 0.5565362572669983, 0.47355595231056213, 0.43160247802734375, 0.40442442893981934, 0.3838876187801361]} cross entropy {1: [1.8648720979690552, 0.8169098496437073, 0.5565362572669983, 0.47355595231056213, 0.43160247802734375, 0.40442442893981934, 0.3838876187801361]} ewc {1: [0.0, 0.0, 0.0, 0.0, 0.0, 0.0, 0.0]}\n"
     ]
    },
    {
     "name": "stderr",
     "output_type": "stream",
     "text": [
      "=> task: 1/2 | epoch: 8/10 | progress: [60032/60000] (100%) | prec: 0.9375 | loss => ce: 0.3673 / ewc: 0.0 / total: 0.3673: : 469it [00:07, 64.53it/s] \n"
     ]
    },
    {
     "name": "stdout",
     "output_type": "stream",
     "text": [
      "Test Accuracy {1: [0.6999, 0.8253, 0.87, 0.8864, 0.8951, 0.902, 0.9075, 0.9114]}\n",
      "total loss {1: [1.8648720979690552, 0.8169098496437073, 0.5565362572669983, 0.47355595231056213, 0.43160247802734375, 0.40442442893981934, 0.3838876187801361, 0.3673332929611206]} cross entropy {1: [1.8648720979690552, 0.8169098496437073, 0.5565362572669983, 0.47355595231056213, 0.43160247802734375, 0.40442442893981934, 0.3838876187801361, 0.3673332929611206]} ewc {1: [0.0, 0.0, 0.0, 0.0, 0.0, 0.0, 0.0, 0.0]}\n"
     ]
    },
    {
     "name": "stderr",
     "output_type": "stream",
     "text": [
      "=> task: 1/2 | epoch: 9/10 | progress: [60032/60000] (100%) | prec: 0.9375 | loss => ce: 0.3537 / ewc: 0.0 / total: 0.3537: : 469it [00:07, 64.16it/s] \n"
     ]
    },
    {
     "name": "stdout",
     "output_type": "stream",
     "text": [
      "Test Accuracy {1: [0.6999, 0.8253, 0.87, 0.8864, 0.8951, 0.902, 0.9075, 0.9114, 0.9155]}\n",
      "total loss {1: [1.8648720979690552, 0.8169098496437073, 0.5565362572669983, 0.47355595231056213, 0.43160247802734375, 0.40442442893981934, 0.3838876187801361, 0.3673332929611206, 0.353683739900589]} cross entropy {1: [1.8648720979690552, 0.8169098496437073, 0.5565362572669983, 0.47355595231056213, 0.43160247802734375, 0.40442442893981934, 0.3838876187801361, 0.3673332929611206, 0.353683739900589]} ewc {1: [0.0, 0.0, 0.0, 0.0, 0.0, 0.0, 0.0, 0.0, 0.0]}\n"
     ]
    },
    {
     "name": "stderr",
     "output_type": "stream",
     "text": [
      "=> task: 1/2 | epoch: 10/10 | progress: [60032/60000] (100%) | prec: 0.9375 | loss => ce: 0.3424 / ewc: 0.0 / total: 0.3424: : 469it [00:07, 64.39it/s]  \n"
     ]
    },
    {
     "name": "stdout",
     "output_type": "stream",
     "text": [
      "Test Accuracy {1: [0.6999, 0.8253, 0.87, 0.8864, 0.8951, 0.902, 0.9075, 0.9114, 0.9155, 0.9192]}\n",
      "total loss {1: [1.8648720979690552, 0.8169098496437073, 0.5565362572669983, 0.47355595231056213, 0.43160247802734375, 0.40442442893981934, 0.3838876187801361, 0.3673332929611206, 0.353683739900589, 0.34235188364982605]} cross entropy {1: [1.8648720979690552, 0.8169098496437073, 0.5565362572669983, 0.47355595231056213, 0.43160247802734375, 0.40442442893981934, 0.3838876187801361, 0.3673332929611206, 0.353683739900589, 0.34235188364982605]} ewc {1: [0.0, 0.0, 0.0, 0.0, 0.0, 0.0, 0.0, 0.0, 0.0, 0.0]}\n",
      "=> Estimating diagonals of the fisher information matrix..."
     ]
    }
   ],
   "source": [
    "lamda = 400\n",
    "mlp_consolidation_no_dropout = MLP(28*28, 10,\n",
    "    hidden_size1,\n",
    "    hidden_size2,\n",
    "    0,\n",
    "    0,\n",
    "    lamda,\n",
    ")\n",
    "torch.autograd.set_detect_anomaly(True)\n",
    "\n",
    "utils.gaussian_initialize(mlp_consolidation_no_dropout)\n",
    "\n",
    "# run the standard experiment.\n",
    "consolidate = True\n",
    "ewc_prec_no_dropout, ewc_total_loss_no_dropout, ewc_ce_loss_no_dropout, ewc_ewc_loss_no_dropout =train(\n",
    "    mlp_consolidation_no_dropout, train_loader, test_loader,\n",
    "    epochs_per_task,\n",
    "    batch_size,\n",
    "    test_size,\n",
    "    consolidate,\n",
    "    fisher_estimation_sample_size,\n",
    "    lr,\n",
    "    weight_decay,\n",
    "    eval_log_interval,\n",
    "    loss_log_interval,\n",
    "    cuda\n",
    ")"
   ]
  },
  {
   "cell_type": "code",
   "execution_count": null,
   "id": "coated-screw",
   "metadata": {},
   "outputs": [],
   "source": [
    "loss_plot(ewc_total_loss_no_dropout)"
   ]
  },
  {
   "cell_type": "code",
   "execution_count": null,
   "id": "raising-plaintiff",
   "metadata": {},
   "outputs": [],
   "source": [
    "accuracy_plot(ewc_prec_no_dropout)"
   ]
  },
  {
   "cell_type": "code",
   "execution_count": null,
   "id": "virtual-biography",
   "metadata": {},
   "outputs": [],
   "source": [
    "avg_precision_plot([ewc_prec_no_dropout])"
   ]
  },
  {
   "cell_type": "code",
   "execution_count": null,
   "id": "rising-cream",
   "metadata": {},
   "outputs": [],
   "source": [
    "# prepare the model.\n",
    "mlp_dropout = MLP(\n",
    "    DATASET_CONFIGS['mnist']['size']**2,\n",
    "    DATASET_CONFIGS['mnist']['classes'],\n",
    "    hidden_size,\n",
    "    hidden_layer_num,\n",
    "    hidden_dropout_prob,\n",
    "    input_dropout_prob,\n",
    "    lamda,\n",
    ")\n",
    "#different to xavier intialisation ??? test\n",
    "# initialize the parameters.\n",
    "utils.gaussian_initialize(mlp_dropout)\n",
    "\n",
    "# prepare the cuda if needed.\n",
    "if cuda:\n",
    "    mlp.cuda()"
   ]
  },
  {
   "cell_type": "code",
   "execution_count": null,
   "id": "introductory-hudson",
   "metadata": {},
   "outputs": [],
   "source": [
    "# run the standard experiment.\n",
    "consolidate = False\n",
    "standard_prec_dropout, standard_total_loss_dropout, standard_ce_loss_dropout, standard_ewc_loss_dropout = train(\n",
    "    mlp_dropout, train_datasets, test_datasets,\n",
    "    epochs_per_task,\n",
    "    batch_size,\n",
    "    test_size,\n",
    "    consolidate,\n",
    "    fisher_estimation_sample_size,\n",
    "    lr,\n",
    "    weight_decay,\n",
    "    eval_log_interval,\n",
    "    loss_log_interval,\n",
    "    cuda\n",
    ")"
   ]
  },
  {
   "cell_type": "code",
   "execution_count": null,
   "id": "technological-causing",
   "metadata": {},
   "outputs": [],
   "source": [
    "loss_plot(standard_total_loss_dropout)"
   ]
  },
  {
   "cell_type": "code",
   "execution_count": null,
   "id": "welcome-detective",
   "metadata": {},
   "outputs": [],
   "source": [
    "accuracy_plot(standard_prec_dropout)"
   ]
  },
  {
   "cell_type": "code",
   "execution_count": null,
   "id": "dated-yukon",
   "metadata": {},
   "outputs": [],
   "source": [
    "avg_precision_plot([standard_prec_dropout])"
   ]
  },
  {
   "cell_type": "code",
   "execution_count": null,
   "id": "spread-syria",
   "metadata": {},
   "outputs": [],
   "source": [
    "mlp_consolidation_dropout = MLP(\n",
    "    DATASET_CONFIGS['mnist']['size']**2,\n",
    "    DATASET_CONFIGS['mnist']['classes'],\n",
    "    hidden_size,\n",
    "    hidden_layer_num,\n",
    "    hidden_dropout_prob,\n",
    "    input_dropout_prob,\n",
    "    lamda,\n",
    ")\n",
    "\n",
    "utils.gaussian_initialize(mlp_consolidation_dropout)\n",
    "\n",
    "# run the standard experiment.\n",
    "consolidate = True\n",
    "ewc_prec_dropout, ewc_total_loss_dropout, ewc_ce_loss_dropout, ewc_ewc_loss_dropout =train(\n",
    "    mlp_consolidation_dropout, train_datasets, test_datasets,\n",
    "    epochs_per_task,\n",
    "    batch_size,\n",
    "    test_size,\n",
    "    consolidate,\n",
    "    fisher_estimation_sample_size,\n",
    "    lr,\n",
    "    weight_decay,\n",
    "    eval_log_interval,\n",
    "    loss_log_interval,\n",
    "    cuda\n",
    ")"
   ]
  },
  {
   "cell_type": "code",
   "execution_count": null,
   "id": "weekly-suicide",
   "metadata": {},
   "outputs": [],
   "source": [
    "loss_plot(ewc_total_loss_dropout)"
   ]
  },
  {
   "cell_type": "code",
   "execution_count": null,
   "id": "sorted-logistics",
   "metadata": {},
   "outputs": [],
   "source": [
    "accuracy_plot(ewc_prec_dropout)"
   ]
  },
  {
   "cell_type": "code",
   "execution_count": null,
   "id": "ruled-basis",
   "metadata": {},
   "outputs": [],
   "source": [
    "avg_precision_plot([ewc_prec_dropout])\n",
    "    \n"
   ]
  },
  {
   "cell_type": "code",
   "execution_count": null,
   "id": "funky-nigeria",
   "metadata": {},
   "outputs": [],
   "source": [
    "avg_precision_plot([standard_prec_no_dropout,ewc_prec, standard_prec,  ewc_prec_dropout], [\"no dropout\", \"dropout\", \"ewc_40\", \"ewc_100\"])"
   ]
  },
  {
   "cell_type": "code",
   "execution_count": null,
   "id": "french-audience",
   "metadata": {},
   "outputs": [],
   "source": [
    "'''lamda = 1000\n",
    "mlp_consolidation_1000 = MLP(\n",
    "    DATASET_CONFIGS['mnist']['size']**2,\n",
    "    DATASET_CONFIGS['mnist']['classes'],\n",
    "    hidden_size,\n",
    "    hidden_layer_num,\n",
    "    hidden_dropout_prob,\n",
    "    input_dropout_prob,\n",
    "    lamda,\n",
    ")\n",
    "\n",
    "# run the standard experiment.\n",
    "consolidate = True\n",
    "ewc_prec_1000, ewc_total_loss_1000, ewc_ce_loss_1000, ewc_ewc_loss_1000 =train(\n",
    "    mlp_consolidation_1000, train_datasets, test_datasets,\n",
    "    epochs_per_task,\n",
    "    batch_size,\n",
    "    test_size,\n",
    "    consolidate,\n",
    "    fisher_estimation_sample_size,\n",
    "    lr,\n",
    "    weight_decay,\n",
    "    eval_log_interval,\n",
    "    loss_log_interval,\n",
    "    cuda\n",
    ")'''"
   ]
  },
  {
   "cell_type": "code",
   "execution_count": null,
   "id": "experimental-spanish",
   "metadata": {},
   "outputs": [],
   "source": [
    "#loss_plot(ewc_total_loss_1000)"
   ]
  },
  {
   "cell_type": "code",
   "execution_count": null,
   "id": "divine-shower",
   "metadata": {},
   "outputs": [],
   "source": [
    "#accuracy_plot(ewc_prec_1000)"
   ]
  },
  {
   "cell_type": "code",
   "execution_count": null,
   "id": "serious-sarah",
   "metadata": {},
   "outputs": [],
   "source": [
    "'''lamda = 10\n",
    "mlp_consolidation_10 = MLP(\n",
    "    DATASET_CONFIGS['mnist']['size']**2,\n",
    "    DATASET_CONFIGS['mnist']['classes'],\n",
    "    hidden_size,\n",
    "    hidden_layer_num,\n",
    "    hidden_dropout_prob,\n",
    "    input_dropout_prob,\n",
    "    lamda,\n",
    ")\n",
    "\n",
    "# run the standard experiment.\n",
    "consolidate = True\n",
    "ewc_prec_10, ewc_total_loss_10, ewc_ce_loss_10, ewc_ewc_loss_10 =train(\n",
    "    mlp_consolidation_10, train_datasets, test_datasets,\n",
    "    epochs_per_task,\n",
    "    batch_size,\n",
    "    test_size,\n",
    "    consolidate,\n",
    "    fisher_estimation_sample_size,\n",
    "    lr,\n",
    "    weight_decay,\n",
    "    eval_log_interval,\n",
    "    loss_log_interval,\n",
    "    cuda\n",
    ")'''"
   ]
  },
  {
   "cell_type": "code",
   "execution_count": null,
   "id": "front-bulletin",
   "metadata": {},
   "outputs": [],
   "source": [
    "#loss_plot(ewc_total_loss_10)"
   ]
  },
  {
   "cell_type": "code",
   "execution_count": null,
   "id": "narrow-location",
   "metadata": {},
   "outputs": [],
   "source": [
    "#accuracy_plot(ewc_prec_10)"
   ]
  },
  {
   "cell_type": "code",
   "execution_count": null,
   "id": "popular-correction",
   "metadata": {},
   "outputs": [],
   "source": [
    "'''lamda = 80\n",
    "mlp_consolidation_80 = MLP(\n",
    "    DATASET_CONFIGS['mnist']['size']**2,\n",
    "    DATASET_CONFIGS['mnist']['classes'],\n",
    "    hidden_size,\n",
    "    hidden_layer_num,\n",
    "    hidden_dropout_prob,\n",
    "    input_dropout_prob,\n",
    "    lamda,\n",
    ")\n",
    "\n",
    "# run the standard experiment.\n",
    "consolidate = True\n",
    "ewc_prec_80, ewc_total_loss_80, ewc_ce_loss_80, ewc_ewc_loss_80 =train(\n",
    "    mlp_consolidation_80, train_datasets, test_datasets,\n",
    "    epochs_per_task,\n",
    "    batch_size,\n",
    "    test_size,\n",
    "    consolidate,\n",
    "    fisher_estimation_sample_size,\n",
    "    lr,\n",
    "    weight_decay,\n",
    "    eval_log_interval,\n",
    "    loss_log_interval,\n",
    "    cuda\n",
    ")'''"
   ]
  },
  {
   "cell_type": "code",
   "execution_count": null,
   "id": "objective-engine",
   "metadata": {},
   "outputs": [],
   "source": [
    "#loss_plot(ewc_total_loss_80)"
   ]
  },
  {
   "cell_type": "code",
   "execution_count": null,
   "id": "universal-court",
   "metadata": {},
   "outputs": [],
   "source": [
    "#accuracy_plot(ewc_prec_80)"
   ]
  },
  {
   "cell_type": "code",
   "execution_count": null,
   "id": "hairy-andrews",
   "metadata": {},
   "outputs": [],
   "source": []
  }
 ],
 "metadata": {
  "kernelspec": {
   "display_name": "Python 3",
   "language": "python",
   "name": "python3"
  },
  "language_info": {
   "codemirror_mode": {
    "name": "ipython",
    "version": 3
   },
   "file_extension": ".py",
   "mimetype": "text/x-python",
   "name": "python",
   "nbconvert_exporter": "python",
   "pygments_lexer": "ipython3",
   "version": "3.8.5"
  }
 },
 "nbformat": 4,
 "nbformat_minor": 5
}
